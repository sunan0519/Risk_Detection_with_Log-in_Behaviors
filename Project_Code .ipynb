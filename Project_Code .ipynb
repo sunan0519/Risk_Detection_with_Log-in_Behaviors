{
 "cells": [
  {
   "cell_type": "code",
   "execution_count": 1,
   "metadata": {},
   "outputs": [],
   "source": [
    "import pandas as pd\n",
    "import matplotlib.pyplot as plt\n",
    "import time\n",
    "import datetime\n",
    "import numpy as np\n",
    "from collections import Counter\n",
    "\n",
    "###<summary>\n",
    "### read and process log-in data\n",
    "###<return> a cleaned pandas dataframe\n",
    "###<summary>\n",
    "\n",
    "def login_data_prepare(filename = 't_login.csv'):  \n",
    "    df = pd.read_csv(filename)\n",
    "    df['result'] = [1 if i==1 else 0 for i in df['result']]\n",
    "    df['timelong'] = [df['timelong'][i] if (df['log_from'][i]==10 or df['log_from'][i]==11) else df['timelong'][i]/1000 for i in range(df.shape[0])]\n",
    "    df['timestamp_login'] = [time.mktime(time.strptime(timestr, \"%Y-%m-%d %H:%M:%S\")) for timestr in df['time']]\n",
    "    df['uniqueday'] = [df['time'][i][5:10] for i in range(df.shape[0])]\n",
    "    df['is_scan'] = [int(i) for i in df['is_scan']]\n",
    "\n",
    "    df = df.drop(['timestamp','is_sec'], axis = 1)\n",
    "    return df\n",
    "\n",
    "\n",
    "\n",
    "%matplotlib inline\n",
    "# fig = plt.figure(figsize=[20,12])\n",
    "# i = 0\n",
    "# for column in df_login.columns[[1,2,3,5,6,8]]:\n",
    "#     ax = plt.subplot(2,3,i+1)\n",
    "#     if i==0:\n",
    "#         ax.hist(df_login[column].values, range=(0,1.5e+05))\n",
    "#         ax.set_title(column)     \n",
    "#     else:\n",
    "#         ax.hist(df_login[column].values)\n",
    "#         ax.set_title(column)\n",
    "#     i+=1\n",
    "\n",
    "\n"
   ]
  },
  {
   "cell_type": "code",
   "execution_count": 2,
   "metadata": {},
   "outputs": [
    {
     "name": "stdout",
     "output_type": "stream",
     "text": [
      "(595645, 13)\n"
     ]
    },
    {
     "data": {
      "text/html": [
       "<div>\n",
       "<style scoped>\n",
       "    .dataframe tbody tr th:only-of-type {\n",
       "        vertical-align: middle;\n",
       "    }\n",
       "\n",
       "    .dataframe tbody tr th {\n",
       "        vertical-align: top;\n",
       "    }\n",
       "\n",
       "    .dataframe thead th {\n",
       "        text-align: right;\n",
       "    }\n",
       "</style>\n",
       "<table border=\"1\" class=\"dataframe\">\n",
       "  <thead>\n",
       "    <tr style=\"text-align: right;\">\n",
       "      <th></th>\n",
       "      <th>log_id</th>\n",
       "      <th>timelong</th>\n",
       "      <th>device</th>\n",
       "      <th>log_from</th>\n",
       "      <th>ip</th>\n",
       "      <th>city</th>\n",
       "      <th>result</th>\n",
       "      <th>type</th>\n",
       "      <th>id</th>\n",
       "      <th>is_scan</th>\n",
       "      <th>time</th>\n",
       "      <th>timestamp_login</th>\n",
       "      <th>uniqueday</th>\n",
       "    </tr>\n",
       "  </thead>\n",
       "  <tbody>\n",
       "    <tr>\n",
       "      <th>0</th>\n",
       "      <td>2.618369e+15</td>\n",
       "      <td>5.000</td>\n",
       "      <td>879361</td>\n",
       "      <td>10</td>\n",
       "      <td>1026491</td>\n",
       "      <td>194</td>\n",
       "      <td>1</td>\n",
       "      <td>1</td>\n",
       "      <td>116825</td>\n",
       "      <td>1</td>\n",
       "      <td>2015-04-10 12:54:19</td>\n",
       "      <td>1.428685e+09</td>\n",
       "      <td>04-10</td>\n",
       "    </tr>\n",
       "    <tr>\n",
       "      <th>1</th>\n",
       "      <td>9.969739e+14</td>\n",
       "      <td>16.124</td>\n",
       "      <td>835072</td>\n",
       "      <td>1</td>\n",
       "      <td>1026491</td>\n",
       "      <td>194</td>\n",
       "      <td>1</td>\n",
       "      <td>1</td>\n",
       "      <td>109987</td>\n",
       "      <td>0</td>\n",
       "      <td>2015-04-12 11:20:45</td>\n",
       "      <td>1.428852e+09</td>\n",
       "      <td>04-12</td>\n",
       "    </tr>\n",
       "    <tr>\n",
       "      <th>2</th>\n",
       "      <td>8.123343e+15</td>\n",
       "      <td>5.000</td>\n",
       "      <td>879361</td>\n",
       "      <td>10</td>\n",
       "      <td>1026491</td>\n",
       "      <td>194</td>\n",
       "      <td>1</td>\n",
       "      <td>1</td>\n",
       "      <td>116825</td>\n",
       "      <td>1</td>\n",
       "      <td>2015-03-30 16:38:20</td>\n",
       "      <td>1.427748e+09</td>\n",
       "      <td>03-30</td>\n",
       "    </tr>\n",
       "    <tr>\n",
       "      <th>3</th>\n",
       "      <td>3.265677e+14</td>\n",
       "      <td>6.000</td>\n",
       "      <td>879361</td>\n",
       "      <td>10</td>\n",
       "      <td>1026491</td>\n",
       "      <td>194</td>\n",
       "      <td>1</td>\n",
       "      <td>1</td>\n",
       "      <td>116825</td>\n",
       "      <td>1</td>\n",
       "      <td>2015-04-06 16:22:18</td>\n",
       "      <td>1.428352e+09</td>\n",
       "      <td>04-06</td>\n",
       "    </tr>\n",
       "    <tr>\n",
       "      <th>4</th>\n",
       "      <td>6.684659e+15</td>\n",
       "      <td>4.000</td>\n",
       "      <td>879361</td>\n",
       "      <td>10</td>\n",
       "      <td>1026491</td>\n",
       "      <td>194</td>\n",
       "      <td>1</td>\n",
       "      <td>1</td>\n",
       "      <td>116825</td>\n",
       "      <td>1</td>\n",
       "      <td>2015-04-05 15:55:01</td>\n",
       "      <td>1.428264e+09</td>\n",
       "      <td>04-05</td>\n",
       "    </tr>\n",
       "    <tr>\n",
       "      <th>5</th>\n",
       "      <td>8.828481e+15</td>\n",
       "      <td>5.000</td>\n",
       "      <td>736541</td>\n",
       "      <td>10</td>\n",
       "      <td>1026491</td>\n",
       "      <td>194</td>\n",
       "      <td>1</td>\n",
       "      <td>1</td>\n",
       "      <td>116825</td>\n",
       "      <td>1</td>\n",
       "      <td>2015-04-05 15:48:07</td>\n",
       "      <td>1.428263e+09</td>\n",
       "      <td>04-05</td>\n",
       "    </tr>\n",
       "    <tr>\n",
       "      <th>6</th>\n",
       "      <td>6.071119e+15</td>\n",
       "      <td>13.000</td>\n",
       "      <td>979465</td>\n",
       "      <td>2</td>\n",
       "      <td>1026491</td>\n",
       "      <td>194</td>\n",
       "      <td>1</td>\n",
       "      <td>3</td>\n",
       "      <td>116825</td>\n",
       "      <td>0</td>\n",
       "      <td>2015-05-17 16:27:55</td>\n",
       "      <td>1.431894e+09</td>\n",
       "      <td>05-17</td>\n",
       "    </tr>\n",
       "    <tr>\n",
       "      <th>7</th>\n",
       "      <td>8.525176e+15</td>\n",
       "      <td>17.627</td>\n",
       "      <td>765534</td>\n",
       "      <td>1</td>\n",
       "      <td>1026491</td>\n",
       "      <td>194</td>\n",
       "      <td>1</td>\n",
       "      <td>1</td>\n",
       "      <td>109987</td>\n",
       "      <td>0</td>\n",
       "      <td>2015-03-17 17:19:04</td>\n",
       "      <td>1.426627e+09</td>\n",
       "      <td>03-17</td>\n",
       "    </tr>\n",
       "    <tr>\n",
       "      <th>8</th>\n",
       "      <td>3.120145e+15</td>\n",
       "      <td>12.000</td>\n",
       "      <td>12239</td>\n",
       "      <td>2</td>\n",
       "      <td>1026491</td>\n",
       "      <td>194</td>\n",
       "      <td>1</td>\n",
       "      <td>3</td>\n",
       "      <td>116825</td>\n",
       "      <td>0</td>\n",
       "      <td>2015-03-31 15:58:48</td>\n",
       "      <td>1.427832e+09</td>\n",
       "      <td>03-31</td>\n",
       "    </tr>\n",
       "    <tr>\n",
       "      <th>9</th>\n",
       "      <td>5.367905e+15</td>\n",
       "      <td>9.146</td>\n",
       "      <td>556157</td>\n",
       "      <td>1</td>\n",
       "      <td>1026491</td>\n",
       "      <td>194</td>\n",
       "      <td>0</td>\n",
       "      <td>1</td>\n",
       "      <td>109987</td>\n",
       "      <td>0</td>\n",
       "      <td>2015-05-10 18:06:52</td>\n",
       "      <td>1.431296e+09</td>\n",
       "      <td>05-10</td>\n",
       "    </tr>\n",
       "  </tbody>\n",
       "</table>\n",
       "</div>"
      ],
      "text/plain": [
       "         log_id  timelong  device  log_from       ip  city  result  type  \\\n",
       "0  2.618369e+15     5.000  879361        10  1026491   194       1     1   \n",
       "1  9.969739e+14    16.124  835072         1  1026491   194       1     1   \n",
       "2  8.123343e+15     5.000  879361        10  1026491   194       1     1   \n",
       "3  3.265677e+14     6.000  879361        10  1026491   194       1     1   \n",
       "4  6.684659e+15     4.000  879361        10  1026491   194       1     1   \n",
       "5  8.828481e+15     5.000  736541        10  1026491   194       1     1   \n",
       "6  6.071119e+15    13.000  979465         2  1026491   194       1     3   \n",
       "7  8.525176e+15    17.627  765534         1  1026491   194       1     1   \n",
       "8  3.120145e+15    12.000   12239         2  1026491   194       1     3   \n",
       "9  5.367905e+15     9.146  556157         1  1026491   194       0     1   \n",
       "\n",
       "       id  is_scan                 time  timestamp_login uniqueday  \n",
       "0  116825        1  2015-04-10 12:54:19     1.428685e+09     04-10  \n",
       "1  109987        0  2015-04-12 11:20:45     1.428852e+09     04-12  \n",
       "2  116825        1  2015-03-30 16:38:20     1.427748e+09     03-30  \n",
       "3  116825        1  2015-04-06 16:22:18     1.428352e+09     04-06  \n",
       "4  116825        1  2015-04-05 15:55:01     1.428264e+09     04-05  \n",
       "5  116825        1  2015-04-05 15:48:07     1.428263e+09     04-05  \n",
       "6  116825        0  2015-05-17 16:27:55     1.431894e+09     05-17  \n",
       "7  109987        0  2015-03-17 17:19:04     1.426627e+09     03-17  \n",
       "8  116825        0  2015-03-31 15:58:48     1.427832e+09     03-31  \n",
       "9  109987        0  2015-05-10 18:06:52     1.431296e+09     05-10  "
      ]
     },
     "execution_count": 2,
     "metadata": {},
     "output_type": "execute_result"
    }
   ],
   "source": [
    "df_login = login_data_prepare()\n",
    "print(df_login.shape)\n",
    "df_login.head(10)\n"
   ]
  },
  {
   "cell_type": "code",
   "execution_count": 3,
   "metadata": {},
   "outputs": [
    {
     "name": "stdout",
     "output_type": "stream",
     "text": [
      "There are 37 negative numbers and 490 extremely large numbers for the column timelong\n"
     ]
    }
   ],
   "source": [
    "#unreasonable timelong\n",
    "negnum = sum(df_login['timelong']<0)\n",
    "larnum = sum(df_login['timelong']>1.5e+3)\n",
    "\n",
    "print('There are %d negative numbers and %d extremely large numbers for the column timelong' %(negnum, larnum))"
   ]
  },
  {
   "cell_type": "code",
   "execution_count": 4,
   "metadata": {
    "collapsed": true
   },
   "outputs": [],
   "source": [
    "###<summary>\n",
    "### read and prepare trade data\n",
    "###<return> two dataframe\n",
    "###<return> a processed trade dataframe df_trade and a dataframe that cannot be matchecd by ID\n",
    "###<summary>\n",
    "\n",
    "def trade_data_prepare(filename = 't_trade.csv'):  \n",
    "    df = pd.read_csv(filename)\n",
    "    #get rid of float \n",
    "    df['time'] = [df['time'][i][:-2] for i in range(df.shape[0])]\n",
    "    df['timestamp'] = [time.mktime(time.strptime(timestr, \"%Y-%m-%d %H:%M:%S\")) for timestr in df['time']]\n",
    "    df['datetime'] = [datetime.datetime.strptime(df['time'][i], '%Y-%m-%d %H:%M:%S') for i in range(df.shape[0])]\n",
    "    df['uniqueday'] = [df['time'][i][5:10] for i in range(df.shape[0])]\n",
    "\n",
    "    id_missing = list(set(df['id']).difference(set(df_login['id'])))\n",
    "    df_trade = df[~df['id'].isin(id_missing)]\n",
    "    df_trade_id_missing = df[df['id'].isin(id_missing)]\n",
    "    return df_trade, df_trade_id_missing"
   ]
  },
  {
   "cell_type": "code",
   "execution_count": 5,
   "metadata": {},
   "outputs": [
    {
     "name": "stdout",
     "output_type": "stream",
     "text": [
      "(132126, 7)\n",
      "(593, 7)\n",
      "0    128483\n",
      "1      3643\n",
      "Name: is_risk, dtype: int64\n"
     ]
    },
    {
     "data": {
      "text/html": [
       "<div>\n",
       "<style>\n",
       "    .dataframe thead tr:only-child th {\n",
       "        text-align: right;\n",
       "    }\n",
       "\n",
       "    .dataframe thead th {\n",
       "        text-align: left;\n",
       "    }\n",
       "\n",
       "    .dataframe tbody tr th {\n",
       "        vertical-align: top;\n",
       "    }\n",
       "</style>\n",
       "<table border=\"1\" class=\"dataframe\">\n",
       "  <thead>\n",
       "    <tr style=\"text-align: right;\">\n",
       "      <th></th>\n",
       "      <th>rowkey</th>\n",
       "      <th>time</th>\n",
       "      <th>id</th>\n",
       "      <th>is_risk</th>\n",
       "      <th>timestamp</th>\n",
       "      <th>datetime</th>\n",
       "      <th>uniqueday</th>\n",
       "    </tr>\n",
       "  </thead>\n",
       "  <tbody>\n",
       "    <tr>\n",
       "      <th>0</th>\n",
       "      <td>3</td>\n",
       "      <td>2015-01-01 00:00:41</td>\n",
       "      <td>27863</td>\n",
       "      <td>0</td>\n",
       "      <td>1.420088e+09</td>\n",
       "      <td>2015-01-01 00:00:41</td>\n",
       "      <td>01-01</td>\n",
       "    </tr>\n",
       "    <tr>\n",
       "      <th>1</th>\n",
       "      <td>6</td>\n",
       "      <td>2015-01-01 00:00:46</td>\n",
       "      <td>115201</td>\n",
       "      <td>0</td>\n",
       "      <td>1.420088e+09</td>\n",
       "      <td>2015-01-01 00:00:46</td>\n",
       "      <td>01-01</td>\n",
       "    </tr>\n",
       "    <tr>\n",
       "      <th>2</th>\n",
       "      <td>13</td>\n",
       "      <td>2015-01-01 00:01:02</td>\n",
       "      <td>143711</td>\n",
       "      <td>0</td>\n",
       "      <td>1.420088e+09</td>\n",
       "      <td>2015-01-01 00:01:02</td>\n",
       "      <td>01-01</td>\n",
       "    </tr>\n",
       "    <tr>\n",
       "      <th>3</th>\n",
       "      <td>32</td>\n",
       "      <td>2015-01-01 00:03:00</td>\n",
       "      <td>172699</td>\n",
       "      <td>0</td>\n",
       "      <td>1.420089e+09</td>\n",
       "      <td>2015-01-01 00:03:00</td>\n",
       "      <td>01-01</td>\n",
       "    </tr>\n",
       "    <tr>\n",
       "      <th>4</th>\n",
       "      <td>43</td>\n",
       "      <td>2015-01-01 00:03:52</td>\n",
       "      <td>53265</td>\n",
       "      <td>0</td>\n",
       "      <td>1.420089e+09</td>\n",
       "      <td>2015-01-01 00:03:52</td>\n",
       "      <td>01-01</td>\n",
       "    </tr>\n",
       "    <tr>\n",
       "      <th>5</th>\n",
       "      <td>67</td>\n",
       "      <td>2015-01-01 00:05:51</td>\n",
       "      <td>18231</td>\n",
       "      <td>0</td>\n",
       "      <td>1.420089e+09</td>\n",
       "      <td>2015-01-01 00:05:51</td>\n",
       "      <td>01-01</td>\n",
       "    </tr>\n",
       "    <tr>\n",
       "      <th>6</th>\n",
       "      <td>94</td>\n",
       "      <td>2015-01-01 00:10:12</td>\n",
       "      <td>147174</td>\n",
       "      <td>0</td>\n",
       "      <td>1.420089e+09</td>\n",
       "      <td>2015-01-01 00:10:12</td>\n",
       "      <td>01-01</td>\n",
       "    </tr>\n",
       "    <tr>\n",
       "      <th>7</th>\n",
       "      <td>98</td>\n",
       "      <td>2015-01-01 00:10:48</td>\n",
       "      <td>141674</td>\n",
       "      <td>0</td>\n",
       "      <td>1.420089e+09</td>\n",
       "      <td>2015-01-01 00:10:48</td>\n",
       "      <td>01-01</td>\n",
       "    </tr>\n",
       "    <tr>\n",
       "      <th>8</th>\n",
       "      <td>116</td>\n",
       "      <td>2015-01-01 00:13:16</td>\n",
       "      <td>105324</td>\n",
       "      <td>0</td>\n",
       "      <td>1.420089e+09</td>\n",
       "      <td>2015-01-01 00:13:16</td>\n",
       "      <td>01-01</td>\n",
       "    </tr>\n",
       "    <tr>\n",
       "      <th>9</th>\n",
       "      <td>147</td>\n",
       "      <td>2015-01-01 00:19:07</td>\n",
       "      <td>168749</td>\n",
       "      <td>0</td>\n",
       "      <td>1.420090e+09</td>\n",
       "      <td>2015-01-01 00:19:07</td>\n",
       "      <td>01-01</td>\n",
       "    </tr>\n",
       "  </tbody>\n",
       "</table>\n",
       "</div>"
      ],
      "text/plain": [
       "   rowkey                 time      id  is_risk     timestamp  \\\n",
       "0       3  2015-01-01 00:00:41   27863        0  1.420088e+09   \n",
       "1       6  2015-01-01 00:00:46  115201        0  1.420088e+09   \n",
       "2      13  2015-01-01 00:01:02  143711        0  1.420088e+09   \n",
       "3      32  2015-01-01 00:03:00  172699        0  1.420089e+09   \n",
       "4      43  2015-01-01 00:03:52   53265        0  1.420089e+09   \n",
       "5      67  2015-01-01 00:05:51   18231        0  1.420089e+09   \n",
       "6      94  2015-01-01 00:10:12  147174        0  1.420089e+09   \n",
       "7      98  2015-01-01 00:10:48  141674        0  1.420089e+09   \n",
       "8     116  2015-01-01 00:13:16  105324        0  1.420089e+09   \n",
       "9     147  2015-01-01 00:19:07  168749        0  1.420090e+09   \n",
       "\n",
       "             datetime uniqueday  \n",
       "0 2015-01-01 00:00:41     01-01  \n",
       "1 2015-01-01 00:00:46     01-01  \n",
       "2 2015-01-01 00:01:02     01-01  \n",
       "3 2015-01-01 00:03:00     01-01  \n",
       "4 2015-01-01 00:03:52     01-01  \n",
       "5 2015-01-01 00:05:51     01-01  \n",
       "6 2015-01-01 00:10:12     01-01  \n",
       "7 2015-01-01 00:10:48     01-01  \n",
       "8 2015-01-01 00:13:16     01-01  \n",
       "9 2015-01-01 00:19:07     01-01  "
      ]
     },
     "execution_count": 5,
     "metadata": {},
     "output_type": "execute_result"
    }
   ],
   "source": [
    "####distribution of the target variable####\n",
    "df_trade, df_trade_id_missing = trade_data_prepare()\n",
    "print(df_trade.shape)\n",
    "print(df_trade_id_missing.shape)\n",
    "print(df_trade['is_risk'].value_counts())\n",
    "df_trade.head(10)\n"
   ]
  },
  {
   "cell_type": "code",
   "execution_count": 6,
   "metadata": {
    "collapsed": true
   },
   "outputs": [],
   "source": [
    "###<summary>\n",
    "### match trade to its most recent log-in record\n",
    "###<return> a matched dataframe\n",
    "###<summary>\n",
    "\n",
    "def trade_recent_login_match(forward = 1):\n",
    "    trade_login_merge = df_trade.merge(df_login, on='id', how='left')\n",
    "    df = trade_login_merge[trade_login_merge.timestamp >= trade_login_merge.timestamp_login]\n",
    "    df['timediff'] = df['timestamp'] - df['timestamp_login']\n",
    "    #choose the one with the smallest time difference\n",
    "    trade_past_login_match = df.sort_values(\"timediff\").groupby([\"id\",\"time_x\"], as_index=False).first()\n",
    "    \n",
    "    if forward == 1:\n",
    "        no_login_list = list(set(df_trade['rowkey']).difference(set(trade_past_login_match['rowkey'])))\n",
    "        no_login_df = df_trade[df_trade['rowkey'].isin(no_login_list)]\n",
    "        \n",
    "        df = no_login_df.merge(df_login, on='id')\n",
    "        \n",
    "        df['timediff'] = df['timestamp'] - df['timestamp_login']\n",
    "        trade_future_login_match = df.sort_values(\"timediff\",ascending=False).groupby([\"id\",\"time_x\"], as_index=False).first()\n",
    "        condf = pd.concat([trade_past_login_match,trade_future_login_match],ignore_index=True)\n",
    "        return condf\n",
    "    else:\n",
    "        return trade_past_login_match\n",
    "    "
   ]
  },
  {
   "cell_type": "code",
   "execution_count": 7,
   "metadata": {},
   "outputs": [
    {
     "name": "stderr",
     "output_type": "stream",
     "text": [
      "/Users/sunan/anaconda/lib/python3.6/site-packages/ipykernel_launcher.py:9: SettingWithCopyWarning: \n",
      "A value is trying to be set on a copy of a slice from a DataFrame.\n",
      "Try using .loc[row_indexer,col_indexer] = value instead\n",
      "\n",
      "See the caveats in the documentation: http://pandas.pydata.org/pandas-docs/stable/indexing.html#indexing-view-versus-copy\n",
      "  if __name__ == '__main__':\n"
     ]
    },
    {
     "name": "stdout",
     "output_type": "stream",
     "text": [
      "(132126, 20)\n"
     ]
    },
    {
     "data": {
      "text/html": [
       "<div>\n",
       "<style>\n",
       "    .dataframe thead tr:only-child th {\n",
       "        text-align: right;\n",
       "    }\n",
       "\n",
       "    .dataframe thead th {\n",
       "        text-align: left;\n",
       "    }\n",
       "\n",
       "    .dataframe tbody tr th {\n",
       "        vertical-align: top;\n",
       "    }\n",
       "</style>\n",
       "<table border=\"1\" class=\"dataframe\">\n",
       "  <thead>\n",
       "    <tr style=\"text-align: right;\">\n",
       "      <th></th>\n",
       "      <th>id</th>\n",
       "      <th>time_x</th>\n",
       "      <th>rowkey</th>\n",
       "      <th>is_risk</th>\n",
       "      <th>timestamp</th>\n",
       "      <th>datetime</th>\n",
       "      <th>uniqueday_x</th>\n",
       "      <th>log_id</th>\n",
       "      <th>timelong</th>\n",
       "      <th>device</th>\n",
       "      <th>log_from</th>\n",
       "      <th>ip</th>\n",
       "      <th>city</th>\n",
       "      <th>result</th>\n",
       "      <th>type</th>\n",
       "      <th>is_scan</th>\n",
       "      <th>time_y</th>\n",
       "      <th>timestamp_login</th>\n",
       "      <th>uniqueday_y</th>\n",
       "      <th>timediff</th>\n",
       "    </tr>\n",
       "  </thead>\n",
       "  <tbody>\n",
       "    <tr>\n",
       "      <th>0</th>\n",
       "      <td>5</td>\n",
       "      <td>2015-04-21 20:34:11</td>\n",
       "      <td>560306</td>\n",
       "      <td>0</td>\n",
       "      <td>1.429663e+09</td>\n",
       "      <td>2015-04-21 20:34:11</td>\n",
       "      <td>04-21</td>\n",
       "      <td>7.010986e+15</td>\n",
       "      <td>6.0</td>\n",
       "      <td>781684</td>\n",
       "      <td>2</td>\n",
       "      <td>505101</td>\n",
       "      <td>400</td>\n",
       "      <td>1</td>\n",
       "      <td>3</td>\n",
       "      <td>0</td>\n",
       "      <td>2015-04-21 20:21:59</td>\n",
       "      <td>1.429662e+09</td>\n",
       "      <td>04-21</td>\n",
       "      <td>732.0</td>\n",
       "    </tr>\n",
       "    <tr>\n",
       "      <th>1</th>\n",
       "      <td>6</td>\n",
       "      <td>2015-04-01 12:06:11</td>\n",
       "      <td>472263</td>\n",
       "      <td>0</td>\n",
       "      <td>1.427904e+09</td>\n",
       "      <td>2015-04-01 12:06:11</td>\n",
       "      <td>04-01</td>\n",
       "      <td>5.088796e+15</td>\n",
       "      <td>8.0</td>\n",
       "      <td>703894</td>\n",
       "      <td>2</td>\n",
       "      <td>1289501</td>\n",
       "      <td>238</td>\n",
       "      <td>1</td>\n",
       "      <td>3</td>\n",
       "      <td>0</td>\n",
       "      <td>2015-02-23 18:57:22</td>\n",
       "      <td>1.424736e+09</td>\n",
       "      <td>02-23</td>\n",
       "      <td>3168529.0</td>\n",
       "    </tr>\n",
       "    <tr>\n",
       "      <th>2</th>\n",
       "      <td>6</td>\n",
       "      <td>2015-04-01 12:14:59</td>\n",
       "      <td>472301</td>\n",
       "      <td>0</td>\n",
       "      <td>1.427905e+09</td>\n",
       "      <td>2015-04-01 12:14:59</td>\n",
       "      <td>04-01</td>\n",
       "      <td>5.088796e+15</td>\n",
       "      <td>8.0</td>\n",
       "      <td>703894</td>\n",
       "      <td>2</td>\n",
       "      <td>1289501</td>\n",
       "      <td>238</td>\n",
       "      <td>1</td>\n",
       "      <td>3</td>\n",
       "      <td>0</td>\n",
       "      <td>2015-02-23 18:57:22</td>\n",
       "      <td>1.424736e+09</td>\n",
       "      <td>02-23</td>\n",
       "      <td>3169057.0</td>\n",
       "    </tr>\n",
       "    <tr>\n",
       "      <th>3</th>\n",
       "      <td>6</td>\n",
       "      <td>2015-04-01 15:30:27</td>\n",
       "      <td>473131</td>\n",
       "      <td>0</td>\n",
       "      <td>1.427917e+09</td>\n",
       "      <td>2015-04-01 15:30:27</td>\n",
       "      <td>04-01</td>\n",
       "      <td>5.088796e+15</td>\n",
       "      <td>8.0</td>\n",
       "      <td>703894</td>\n",
       "      <td>2</td>\n",
       "      <td>1289501</td>\n",
       "      <td>238</td>\n",
       "      <td>1</td>\n",
       "      <td>3</td>\n",
       "      <td>0</td>\n",
       "      <td>2015-02-23 18:57:22</td>\n",
       "      <td>1.424736e+09</td>\n",
       "      <td>02-23</td>\n",
       "      <td>3180785.0</td>\n",
       "    </tr>\n",
       "    <tr>\n",
       "      <th>4</th>\n",
       "      <td>6</td>\n",
       "      <td>2015-04-01 15:31:38</td>\n",
       "      <td>473135</td>\n",
       "      <td>0</td>\n",
       "      <td>1.427917e+09</td>\n",
       "      <td>2015-04-01 15:31:38</td>\n",
       "      <td>04-01</td>\n",
       "      <td>5.088796e+15</td>\n",
       "      <td>8.0</td>\n",
       "      <td>703894</td>\n",
       "      <td>2</td>\n",
       "      <td>1289501</td>\n",
       "      <td>238</td>\n",
       "      <td>1</td>\n",
       "      <td>3</td>\n",
       "      <td>0</td>\n",
       "      <td>2015-02-23 18:57:22</td>\n",
       "      <td>1.424736e+09</td>\n",
       "      <td>02-23</td>\n",
       "      <td>3180856.0</td>\n",
       "    </tr>\n",
       "  </tbody>\n",
       "</table>\n",
       "</div>"
      ],
      "text/plain": [
       "   id               time_x  rowkey  is_risk     timestamp            datetime  \\\n",
       "0   5  2015-04-21 20:34:11  560306        0  1.429663e+09 2015-04-21 20:34:11   \n",
       "1   6  2015-04-01 12:06:11  472263        0  1.427904e+09 2015-04-01 12:06:11   \n",
       "2   6  2015-04-01 12:14:59  472301        0  1.427905e+09 2015-04-01 12:14:59   \n",
       "3   6  2015-04-01 15:30:27  473131        0  1.427917e+09 2015-04-01 15:30:27   \n",
       "4   6  2015-04-01 15:31:38  473135        0  1.427917e+09 2015-04-01 15:31:38   \n",
       "\n",
       "  uniqueday_x        log_id  timelong  device  log_from       ip  city  \\\n",
       "0       04-21  7.010986e+15       6.0  781684         2   505101   400   \n",
       "1       04-01  5.088796e+15       8.0  703894         2  1289501   238   \n",
       "2       04-01  5.088796e+15       8.0  703894         2  1289501   238   \n",
       "3       04-01  5.088796e+15       8.0  703894         2  1289501   238   \n",
       "4       04-01  5.088796e+15       8.0  703894         2  1289501   238   \n",
       "\n",
       "   result  type  is_scan               time_y  timestamp_login uniqueday_y  \\\n",
       "0       1     3        0  2015-04-21 20:21:59     1.429662e+09       04-21   \n",
       "1       1     3        0  2015-02-23 18:57:22     1.424736e+09       02-23   \n",
       "2       1     3        0  2015-02-23 18:57:22     1.424736e+09       02-23   \n",
       "3       1     3        0  2015-02-23 18:57:22     1.424736e+09       02-23   \n",
       "4       1     3        0  2015-02-23 18:57:22     1.424736e+09       02-23   \n",
       "\n",
       "    timediff  \n",
       "0      732.0  \n",
       "1  3168529.0  \n",
       "2  3169057.0  \n",
       "3  3180785.0  \n",
       "4  3180856.0  "
      ]
     },
     "execution_count": 7,
     "metadata": {},
     "output_type": "execute_result"
    }
   ],
   "source": [
    "df_trade_recent_login = trade_recent_login_match(forward = 1)\n",
    "print(df_trade_recent_login.shape)\n",
    "df_trade_recent_login.head()"
   ]
  },
  {
   "cell_type": "code",
   "execution_count": 8,
   "metadata": {
    "collapsed": true
   },
   "outputs": [],
   "source": [
    "#merge trade sameday info \n",
    "trade_merge = df_trade.merge(df_trade, on=['id','uniqueday'])\n",
    "trade_merge['timediff'] = trade_merge['timestamp_x'] - trade_merge['timestamp_y']\n"
   ]
  },
  {
   "cell_type": "code",
   "execution_count": 9,
   "metadata": {
    "collapsed": true
   },
   "outputs": [],
   "source": [
    "#merge trade all info\n",
    "trade_merge_all = df_trade.merge(df_trade, on='id')\n",
    "trade_merge_all['timediff'] = trade_merge_all['timestamp_x'] - trade_merge_all['timestamp_y']\n"
   ]
  },
  {
   "cell_type": "code",
   "execution_count": 10,
   "metadata": {
    "collapsed": true
   },
   "outputs": [],
   "source": [
    "###<summary>\n",
    "### time difference from last trade and next trade\n",
    "###<return> a dataframe inclued time dfference\n",
    "###<summary>\n",
    "\n",
    "def trade_time_diff(time_range):\n",
    "    #time_range takes value in past or future, past represents last trade, future represents next trade\n",
    "    if time_range == 'last':\n",
    "        trade_merge_last = trade_merge_all[trade_merge_all['timediff'] > 0]\n",
    "        time_diff_ltrade = trade_merge_last.sort_values(\"timediff\").groupby([\"id\",\"rowkey_x\"], as_index=False).first()\n",
    "        find_time_diff = time_diff_ltrade.loc[:,['id','rowkey_x','timediff']]\n",
    "    else:\n",
    "        trade_merge_next = trade_merge_all[trade_merge_all['timediff'] < 0]\n",
    "        time_diff_ntrade = trade_merge_next.sort_values(\"timediff\",ascending=False).groupby([\"id\",\"rowkey_x\"], as_index=False).first()\n",
    "        find_time_diff = time_diff_ntrade.loc[:,['id','rowkey_x','timediff']]\n",
    "        find_time_diff['timediff'] = find_time_diff['timediff'].abs()\n",
    "    \n",
    "    find_time_diff['timediff'] = [1/find_time_diff['timediff'][i] for i in range(find_time_diff.shape[0])]\n",
    "    st = time_range + '_trade' + '_timediff'\n",
    "    find_time_diff = find_time_diff.rename(columns = {'rowkey_x': 'rowkey', 'timediff': st})\n",
    "    return find_time_diff"
   ]
  },
  {
   "cell_type": "code",
   "execution_count": 11,
   "metadata": {
    "collapsed": true
   },
   "outputs": [],
   "source": [
    "###<summary>\n",
    "### trade times in the same day/hour/ten minutes before/after this trade  \n",
    "### total trade times in the same day/hour/ten minutes of this trade \n",
    "###<return> a dataframe that include all such features\n",
    "###<summary>\n",
    "\n",
    "def trade_times(time_range, time_long):\n",
    "    #time_range stands for past, future, or all; time_long stands for day, hour, or ten minites\n",
    "    if time_long == 'day':\n",
    "        trade_past = trade_merge[trade_merge['timediff'] >= 0] if time_range == 'past' else trade_merge[trade_merge['timediff'] <= 0] if time_range == 'future' else trade_merge\n",
    "    if time_long == 'hour':\n",
    "        trade_past = trade_merge[(trade_merge['timediff']<=3600) & (trade_merge['timediff']>=0)] if time_range == 'past' else trade_merge[(trade_merge['timediff'] >= -3600) & (trade_merge['timediff']<=0)] if time_range == 'future' else trade_merge[(trade_merge['timediff']<=1800) & (trade_merge['timediff']>=-1800)] \n",
    "    if time_long == 'ten_minutes':\n",
    "        trade_past = trade_merge[(trade_merge['timediff'] <= 600) & (trade_merge['timediff']>=0)] if time_range == 'past' else trade_merge[(trade_merge['timediff'] >= -600) & (trade_merge['timediff']<=0)] if time_range == 'future' else trade_merge[(trade_merge['timediff']<=300) & (trade_merge['timediff']>=-300)] \n",
    "    \n",
    "        \n",
    "    find_counts = trade_past.sort_values(\"timediff\").groupby([\"id\",\"rowkey_x\"], as_index=False).timediff.count()\n",
    "    st = time_range + '_' + time_long + '_trade'\n",
    "    find_counts = find_counts.rename(columns = {'rowkey_x': 'rowkey', 'timediff': st})\n",
    "    find_counts[st] = [find_counts[st][i] -1 if time_range != 'all' else find_counts[st][i] for i in range(find_counts.shape[0])]\n",
    "    return find_counts\n",
    "    \n",
    "#     new_df = df.merge(find_counts.drop('uniqueday', axis = 1), on=['id','time'])\n",
    "#     new_df[st] = [new_df[st][i] -1 if time_range != 'all' else new_df[st][i] for i in range(new_df.shape[0])]\n",
    "#     return new_df"
   ]
  },
  {
   "cell_type": "code",
   "execution_count": 12,
   "metadata": {
    "collapsed": true
   },
   "outputs": [],
   "source": [
    "###<summary>\n",
    "### Add trade times and login times features to our data frame\n",
    "###<return> a merged dataframe\n",
    "###<summary>\n",
    "\n",
    "def add_features(df_origin, df_features):\n",
    "    df = df_origin.merge(df_features, on = ['id','rowkey'], how = 'left')\n",
    "    return df"
   ]
  },
  {
   "cell_type": "code",
   "execution_count": 13,
   "metadata": {
    "collapsed": true
   },
   "outputs": [],
   "source": [
    "####add times features####\n",
    "count = 0\n",
    "for tr in ['future', 'past', 'all']:\n",
    "    for tl in ['day', 'hour', 'ten_minutes']:\n",
    "        trade_time_features = trade_times(tr, tl)\n",
    "        if count == 0:\n",
    "            df_tt = add_features(df_trade_recent_login, trade_time_features)\n",
    "            count += 1\n",
    "        else:\n",
    "            df_tt = add_features(df_tt, trade_time_features)"
   ]
  },
  {
   "cell_type": "code",
   "execution_count": 14,
   "metadata": {
    "collapsed": true
   },
   "outputs": [],
   "source": [
    "####add trade time difference features####\n",
    "for tr in ['last', 'next']:\n",
    "    trade_time_diff_features = trade_time_diff(tr)\n",
    "    df_tt = add_features(df_tt, trade_time_diff_features)\n",
    "\n"
   ]
  },
  {
   "cell_type": "code",
   "execution_count": 15,
   "metadata": {
    "collapsed": true
   },
   "outputs": [],
   "source": [
    "######determine if a trade happens at midnight######\n",
    "df_tt['if_midnight']= [1 if (df_tt['datetime'][i].hour>=1) & (df_tt['datetime'][i].hour<=6) else 0 for i in range(df_tt.shape[0])]\n",
    "df_tt = df_tt.fillna(0)"
   ]
  },
  {
   "cell_type": "code",
   "execution_count": 16,
   "metadata": {
    "collapsed": true
   },
   "outputs": [],
   "source": [
    "#merge trade and login sameday info \n",
    "trade_login_merge_sameday = df_trade.merge(df_login, on=['id','uniqueday'])\n",
    "trade_login_merge_sameday['timediff'] = trade_login_merge_sameday['timestamp'] - trade_login_merge_sameday['timestamp_login']\n"
   ]
  },
  {
   "cell_type": "code",
   "execution_count": 17,
   "metadata": {
    "collapsed": true
   },
   "outputs": [],
   "source": [
    "###<summary>\n",
    "### log-in times in the same day/hour/ten minutes before/after the trade  \n",
    "### total log-in times in the same day/hour/ten minutes of this trade\n",
    "###<return> a dataframe that include all such features  \n",
    "###<summary>\n",
    "\n",
    "def login_times(time_range, time_long):\n",
    "    #time_range stands for past, future, or all; time_long stands for day, hour, or ten minites\n",
    "    if time_long == 'day':\n",
    "        login_past = trade_login_merge_sameday[trade_login_merge_sameday['timediff'] >= 0] if time_range == 'past' else trade_login_merge_sameday[trade_login_merge_sameday['timediff'] <= 0] if time_range == 'future' else trade_login_merge_sameday\n",
    "    if time_long == 'hour':\n",
    "        login_past = trade_login_merge_sameday[(trade_login_merge_sameday['timediff']<=3600) & (trade_login_merge_sameday['timediff']>=0)] if time_range == 'past' else trade_login_merge_sameday[(trade_login_merge_sameday['timediff']>=-3600) & (trade_login_merge_sameday['timediff']<=0)] if time_range == 'future' else trade_login_merge_sameday[(trade_login_merge_sameday['timediff']<=1800) & (trade_login_merge_sameday['timediff']>=-1800)] \n",
    "    if time_long == 'ten_minutes':\n",
    "        login_past = trade_login_merge_sameday[(trade_login_merge_sameday['timediff']<=600) & (trade_login_merge_sameday['timediff']>=0)] if time_range == 'past' else trade_login_merge_sameday[(trade_login_merge_sameday['timediff']>=-600) & (trade_login_merge_sameday['timediff']<=0)] if time_range == 'future' else trade_login_merge_sameday[(trade_login_merge_sameday['timediff']<=300) & (trade_login_merge_sameday['timediff']>=-300)] \n",
    "    \n",
    "        \n",
    "    find_counts = login_past.sort_values(\"timediff\").groupby([\"id\",\"rowkey\"], as_index=False).timediff.count()\n",
    "    st = time_range + '_' + time_long + '_login'\n",
    "    find_counts = find_counts.rename(columns = {'timediff': st})\n",
    "    \n",
    "    return find_counts\n",
    "\n",
    "#     new_df = df.merge(find_counts.drop('uniqueday', axis = 1), on=['id','time'], how = 'left')\n",
    "# #    new_df[st] = [new_df[st][i] -1 if time_range != 'all' else new_df[st][i] for i in range(new_df.shape[0])]\n",
    "#     new_df = new_df.fillna(0)\n",
    "\n",
    "#     return new_df"
   ]
  },
  {
   "cell_type": "code",
   "execution_count": 18,
   "metadata": {
    "collapsed": true
   },
   "outputs": [],
   "source": [
    "### total trade times in ten minutes/an hour before/after each trade\n",
    "### total log-in times in ten minutes/an hour before/after each trade\n",
    "count = 0\n",
    "for tr in ['future', 'past', 'all']:\n",
    "    for tl in ['day', 'hour', 'ten_minutes']:\n",
    "        login_time_features = login_times(tr, tl)\n",
    "        if count == 0:\n",
    "            df_tt_lt = add_features(df_tt, login_time_features)\n",
    "            df_tt_lt = df_tt_lt.fillna(0)\n",
    "            count += 1\n",
    "        else:\n",
    "            df_tt_lt = add_features(df_tt_lt, login_time_features)\n",
    "            df_tt_lt = df_tt_lt.fillna(0)"
   ]
  },
  {
   "cell_type": "code",
   "execution_count": 19,
   "metadata": {
    "scrolled": true
   },
   "outputs": [
    {
     "data": {
      "text/html": [
       "<div>\n",
       "<style>\n",
       "    .dataframe thead tr:only-child th {\n",
       "        text-align: right;\n",
       "    }\n",
       "\n",
       "    .dataframe thead th {\n",
       "        text-align: left;\n",
       "    }\n",
       "\n",
       "    .dataframe tbody tr th {\n",
       "        vertical-align: top;\n",
       "    }\n",
       "</style>\n",
       "<table border=\"1\" class=\"dataframe\">\n",
       "  <thead>\n",
       "    <tr style=\"text-align: right;\">\n",
       "      <th></th>\n",
       "      <th>timelong</th>\n",
       "      <th>device</th>\n",
       "      <th>log_from</th>\n",
       "      <th>ip</th>\n",
       "      <th>city</th>\n",
       "      <th>result</th>\n",
       "      <th>type</th>\n",
       "      <th>id</th>\n",
       "      <th>is_scan</th>\n",
       "    </tr>\n",
       "  </thead>\n",
       "  <tbody>\n",
       "    <tr>\n",
       "      <th>0</th>\n",
       "      <td>5.000</td>\n",
       "      <td>879361</td>\n",
       "      <td>10</td>\n",
       "      <td>1026491</td>\n",
       "      <td>194</td>\n",
       "      <td>1</td>\n",
       "      <td>1</td>\n",
       "      <td>116825</td>\n",
       "      <td>1</td>\n",
       "    </tr>\n",
       "    <tr>\n",
       "      <th>1</th>\n",
       "      <td>16.124</td>\n",
       "      <td>835072</td>\n",
       "      <td>1</td>\n",
       "      <td>1026491</td>\n",
       "      <td>194</td>\n",
       "      <td>1</td>\n",
       "      <td>1</td>\n",
       "      <td>109987</td>\n",
       "      <td>0</td>\n",
       "    </tr>\n",
       "    <tr>\n",
       "      <th>2</th>\n",
       "      <td>5.000</td>\n",
       "      <td>879361</td>\n",
       "      <td>10</td>\n",
       "      <td>1026491</td>\n",
       "      <td>194</td>\n",
       "      <td>1</td>\n",
       "      <td>1</td>\n",
       "      <td>116825</td>\n",
       "      <td>1</td>\n",
       "    </tr>\n",
       "    <tr>\n",
       "      <th>3</th>\n",
       "      <td>6.000</td>\n",
       "      <td>879361</td>\n",
       "      <td>10</td>\n",
       "      <td>1026491</td>\n",
       "      <td>194</td>\n",
       "      <td>1</td>\n",
       "      <td>1</td>\n",
       "      <td>116825</td>\n",
       "      <td>1</td>\n",
       "    </tr>\n",
       "    <tr>\n",
       "      <th>4</th>\n",
       "      <td>4.000</td>\n",
       "      <td>879361</td>\n",
       "      <td>10</td>\n",
       "      <td>1026491</td>\n",
       "      <td>194</td>\n",
       "      <td>1</td>\n",
       "      <td>1</td>\n",
       "      <td>116825</td>\n",
       "      <td>1</td>\n",
       "    </tr>\n",
       "  </tbody>\n",
       "</table>\n",
       "</div>"
      ],
      "text/plain": [
       "   timelong  device  log_from       ip  city  result  type      id  is_scan\n",
       "0     5.000  879361        10  1026491   194       1     1  116825        1\n",
       "1    16.124  835072         1  1026491   194       1     1  109987        0\n",
       "2     5.000  879361        10  1026491   194       1     1  116825        1\n",
       "3     6.000  879361        10  1026491   194       1     1  116825        1\n",
       "4     4.000  879361        10  1026491   194       1     1  116825        1"
      ]
     },
     "execution_count": 19,
     "metadata": {},
     "output_type": "execute_result"
    }
   ],
   "source": [
    "#create a new log-in df with float entries so we can calculate the mode, mean and group by id\n",
    "df_login_info = df_login.drop(['time','timestamp_login','log_id','uniqueday'], axis = 1)\n",
    "df_login_info.head(5)"
   ]
  },
  {
   "cell_type": "code",
   "execution_count": 20,
   "metadata": {
    "collapsed": true
   },
   "outputs": [],
   "source": [
    "###<summary>\n",
    "### extract probability features to our dataSet\n",
    "###<return> a dataframe include probability features.\n",
    "###<summary> \n",
    "def loginfo(dfgroup, colname):\n",
    "    probTable = dfgroup[colname].apply(pd.value_counts, normalize = (True, ))\n",
    "    return probTable\n",
    "\n",
    "###<summary>\n",
    "### add probability features to our dataSet\n",
    "###<return> a merged dataset\n",
    "###<summary>\n",
    "\n",
    "def add_recent_login_features(df_origin, df_features):\n",
    "    columns = df_features.drop(['id','timelong'],axis=1).columns\n",
    "    dfgroup = df_features.groupby('id')\n",
    "    for column in columns:\n",
    "        dictAll = loginfo(dfgroup, colname = column)\n",
    "        ids = df_origin['id']\n",
    "        colVals = df_origin[column]\n",
    "        lst = list(map(\n",
    "            lambda args: dictAll[args[0]].get(int(args[1])),\n",
    "            zip(ids, colVals)\n",
    "        ))\n",
    "        st = column + '_prob'\n",
    "        df_origin[st] = lst\n",
    "    return df_origin\n",
    "        "
   ]
  },
  {
   "cell_type": "code",
   "execution_count": 21,
   "metadata": {},
   "outputs": [
    {
     "data": {
      "text/plain": [
       "Index(['id', 'time_x', 'rowkey', 'is_risk', 'timestamp', 'datetime',\n",
       "       'uniqueday_x', 'log_id', 'timelong', 'device', 'log_from', 'ip', 'city',\n",
       "       'result', 'type', 'is_scan', 'time_y', 'timestamp_login', 'uniqueday_y',\n",
       "       'timediff', 'future_day_trade', 'future_hour_trade',\n",
       "       'future_ten_minutes_trade', 'past_day_trade', 'past_hour_trade',\n",
       "       'past_ten_minutes_trade', 'all_day_trade', 'all_hour_trade',\n",
       "       'all_ten_minutes_trade', 'last_trade_timediff', 'next_trade_timediff',\n",
       "       'if_midnight', 'future_day_login', 'future_hour_login',\n",
       "       'future_ten_minutes_login', 'past_day_login', 'past_hour_login',\n",
       "       'past_ten_minutes_login', 'all_day_login', 'all_hour_login',\n",
       "       'all_ten_minutes_login', 'device_prob', 'log_from_prob', 'ip_prob',\n",
       "       'city_prob', 'result_prob', 'type_prob', 'is_scan_prob',\n",
       "       'timelong_mean', 'timelong_diff'],\n",
       "      dtype='object')"
      ]
     },
     "execution_count": 21,
     "metadata": {},
     "output_type": "execute_result"
    }
   ],
   "source": [
    "df_tt_lt_rl = add_recent_login_features(df_tt_lt,df_login_info)\n",
    "#add timelong mean and diff feature\n",
    "timelong_m = df_login_info[['timelong','id']].groupby('id').mean()\n",
    "timelong_m['id'] = timelong_m.index\n",
    "timelong_m.columns = ['timelong_mean','id']\n",
    "df_tt_lt_rl = df_tt_lt_rl.merge(timelong_m, on = 'id', how = 'left')\n",
    "df_tt_lt_rl['timelong_diff'] = df_tt_lt_rl['timelong'] - df_tt_lt_rl['timelong_mean']\n",
    "df_tt_lt_rl.columns"
   ]
  },
  {
   "cell_type": "code",
   "execution_count": 22,
   "metadata": {
    "collapsed": true
   },
   "outputs": [],
   "source": [
    "###<summary>\n",
    "### the device number in same id\n",
    "###<return> integer\n",
    "###<summary> \n",
    "\n",
    "def produce_dev_num_of_id():\n",
    "    dev_num = pd.DataFrame(df_login.groupby('id')['device'].nunique())\n",
    "    dev_num['id'] = dev_num.index\n",
    "    dev_num = dev_num.reset_index(drop=True)\n",
    "    dev_num = dev_num.rename(columns = {'device': 'device_num'})\n",
    "    return dev_num\n",
    "\n",
    "###<summary>\n",
    "### how many id in same device.\n",
    "###<return> integer\n",
    "###<summary> \n",
    "def produce_id_num_of_dev():\n",
    "    id_num = pd.DataFrame(df_login.groupby('device')['id'].nunique())\n",
    "    id_num['device'] = id_num.index\n",
    "    id_num = id_num.reset_index(drop=True)\n",
    "    id_num = id_num.rename(columns = {'id': 'id_num_of_dev'})\n",
    "    return id_num\n",
    "\n",
    "###<summary>\n",
    "### how many device log-in the same ip\n",
    "###<return> integer\n",
    "###<summary> \n",
    "def produce_dev_num_of_ip():\n",
    "    ip_merge_login = df_login.drop(['log_id','timelong','log_from','city','result','type','is_scan'],axis=1).merge(df_login.drop(['log_id','timelong','log_from','city','result','type','is_scan'],axis=1), on=['ip','uniqueday'])\n",
    "    ip_merge_login['timediff'] = ip_merge_login['timestamp_login_x'] - ip_merge_login['timestamp_login_y']\n",
    "    ip_merge_login = ip_merge_login[(ip_merge_login['timediff']<=1800) & (ip_merge_login['timediff']>=-1800)]\n",
    "    dev_num_ip = pd.DataFrame(ip_merge_login.groupby(['ip','time_x'])['device_x'].nunique())\n",
    "    dev_num_ip.reset_index(inplace=True)\n",
    "    dev_num_ip = dev_num_ip.rename(columns = {'time_x': 'time_y','device_x':'dev_num_of_ip'})\n",
    "    return dev_num_ip"
   ]
  },
  {
   "cell_type": "code",
   "execution_count": 23,
   "metadata": {
    "collapsed": true
   },
   "outputs": [],
   "source": [
    "####produce devices features####\n",
    "dev_num_of_id = produce_dev_num_of_id()\n",
    "id_num_of_dev = produce_id_num_of_dev()\n",
    "dev_num_of_ip = produce_dev_num_of_ip()"
   ]
  },
  {
   "cell_type": "code",
   "execution_count": 24,
   "metadata": {
    "collapsed": true
   },
   "outputs": [],
   "source": [
    "###<summary>\n",
    "### add dev_num_of_id, id_num_of_dev and dev_num_of_ip features to our dataframe\n",
    "###<return> a merged dataframe\n",
    "###<summary> \n",
    "\n",
    "def add_device_features(df_origin, df_features, onList):\n",
    "    df = df_origin.merge(df_features,on=onList, how = 'left')\n",
    "    return df\n"
   ]
  },
  {
   "cell_type": "code",
   "execution_count": 25,
   "metadata": {
    "collapsed": true
   },
   "outputs": [],
   "source": [
    "#add device features\n",
    "df_tt_lt_rl = add_device_features(df_tt_lt_rl,id_num_of_dev, onList = 'device')\n",
    "df_tt_lt_rl = add_device_features(df_tt_lt_rl,dev_num_of_id, onList = 'id')\n",
    "df_tt_lt_rl = add_device_features(df_tt_lt_rl,dev_num_of_ip, onList = ['ip','time_y'])\n"
   ]
  },
  {
   "cell_type": "code",
   "execution_count": 26,
   "metadata": {},
   "outputs": [
    {
     "name": "stdout",
     "output_type": "stream",
     "text": [
      "(132126, 53)\n"
     ]
    }
   ],
   "source": [
    "#################make a copy of final dataSet#######################\n",
    "dataSet = df_tt_lt_rl.copy()\n",
    "print(dataSet.shape)"
   ]
  },
  {
   "cell_type": "code",
   "execution_count": 27,
   "metadata": {
    "collapsed": true
   },
   "outputs": [],
   "source": [
    "###<summary>\n",
    "### split the data into training and testing set in time sequence\n",
    "###<return> four dataframes\n",
    "###<summary>\n",
    "\n",
    "def split_dataSet(dataSet):\n",
    "    X = dataSet.drop(['ip','time_x','time_y','timestamp','uniqueday_x','uniqueday_y','log_id','timestamp_login','is_risk'],axis = 1)\n",
    "    Y = dataSet.loc[:,['is_risk','rowkey']]\n",
    "    #we want to cut the training set by time\n",
    "    X['trade_month'] = [X['datetime'][i].month for i in range(X.shape[0])]\n",
    "    X['trade_day'] = [X['datetime'][i].day for i in range(X.shape[0])]\n",
    "    test_index = X[(X['trade_month']==6) & (X['trade_day']>=15)].index\n",
    "    train_index = X[(X['trade_month']<6)|((X['trade_month']==6)&(X['trade_day']<=15))].index\n",
    "\n",
    "    X_train, X_test = X.iloc[train_index,:], X.iloc[test_index,:]\n",
    "    y_train, y_test = Y.iloc[train_index,:], Y.iloc[test_index,:]\n",
    "\n",
    "    X_train = X_train.drop(['id','trade_month','trade_day','datetime'], axis = 1)\n",
    "    X_test = X_test.drop(['id','trade_month','trade_day','datetime'],  axis =1 )\n",
    "    X_train.set_index('rowkey',inplace=True)\n",
    "    X_test.set_index('rowkey',inplace=True)\n",
    "    y_train.set_index('rowkey',inplace=True)\n",
    "    y_test.set_index('rowkey',inplace=True)\n",
    "    return X_train, X_test, y_train, y_test\n"
   ]
  },
  {
   "cell_type": "code",
   "execution_count": 28,
   "metadata": {
    "collapsed": true
   },
   "outputs": [],
   "source": [
    "X_train, X_test, y_train, y_test = split_dataSet(dataSet)"
   ]
  },
  {
   "cell_type": "code",
   "execution_count": 29,
   "metadata": {},
   "outputs": [
    {
     "data": {
      "text/html": [
       "<div>\n",
       "<style>\n",
       "    .dataframe thead tr:only-child th {\n",
       "        text-align: right;\n",
       "    }\n",
       "\n",
       "    .dataframe thead th {\n",
       "        text-align: left;\n",
       "    }\n",
       "\n",
       "    .dataframe tbody tr th {\n",
       "        vertical-align: top;\n",
       "    }\n",
       "</style>\n",
       "<table border=\"1\" class=\"dataframe\">\n",
       "  <thead>\n",
       "    <tr style=\"text-align: right;\">\n",
       "      <th></th>\n",
       "      <th>timelong</th>\n",
       "      <th>device</th>\n",
       "      <th>log_from</th>\n",
       "      <th>city</th>\n",
       "      <th>result</th>\n",
       "      <th>type</th>\n",
       "      <th>is_scan</th>\n",
       "      <th>timediff</th>\n",
       "      <th>future_day_trade</th>\n",
       "      <th>future_hour_trade</th>\n",
       "      <th>...</th>\n",
       "      <th>ip_prob</th>\n",
       "      <th>city_prob</th>\n",
       "      <th>result_prob</th>\n",
       "      <th>type_prob</th>\n",
       "      <th>is_scan_prob</th>\n",
       "      <th>timelong_mean</th>\n",
       "      <th>timelong_diff</th>\n",
       "      <th>id_num_of_dev</th>\n",
       "      <th>device_num</th>\n",
       "      <th>dev_num_of_ip</th>\n",
       "    </tr>\n",
       "    <tr>\n",
       "      <th>rowkey</th>\n",
       "      <th></th>\n",
       "      <th></th>\n",
       "      <th></th>\n",
       "      <th></th>\n",
       "      <th></th>\n",
       "      <th></th>\n",
       "      <th></th>\n",
       "      <th></th>\n",
       "      <th></th>\n",
       "      <th></th>\n",
       "      <th></th>\n",
       "      <th></th>\n",
       "      <th></th>\n",
       "      <th></th>\n",
       "      <th></th>\n",
       "      <th></th>\n",
       "      <th></th>\n",
       "      <th></th>\n",
       "      <th></th>\n",
       "      <th></th>\n",
       "      <th></th>\n",
       "    </tr>\n",
       "  </thead>\n",
       "  <tbody>\n",
       "    <tr>\n",
       "      <th>560306</th>\n",
       "      <td>6.0</td>\n",
       "      <td>781684</td>\n",
       "      <td>2</td>\n",
       "      <td>400</td>\n",
       "      <td>1</td>\n",
       "      <td>3</td>\n",
       "      <td>0</td>\n",
       "      <td>732.0</td>\n",
       "      <td>0</td>\n",
       "      <td>0</td>\n",
       "      <td>...</td>\n",
       "      <td>0.500000</td>\n",
       "      <td>0.5</td>\n",
       "      <td>0.750000</td>\n",
       "      <td>1.0</td>\n",
       "      <td>1.0</td>\n",
       "      <td>23.408250</td>\n",
       "      <td>-17.408250</td>\n",
       "      <td>1</td>\n",
       "      <td>3</td>\n",
       "      <td>1</td>\n",
       "    </tr>\n",
       "    <tr>\n",
       "      <th>472263</th>\n",
       "      <td>8.0</td>\n",
       "      <td>703894</td>\n",
       "      <td>2</td>\n",
       "      <td>238</td>\n",
       "      <td>1</td>\n",
       "      <td>3</td>\n",
       "      <td>0</td>\n",
       "      <td>3168529.0</td>\n",
       "      <td>3</td>\n",
       "      <td>1</td>\n",
       "      <td>...</td>\n",
       "      <td>0.111111</td>\n",
       "      <td>1.0</td>\n",
       "      <td>0.444444</td>\n",
       "      <td>1.0</td>\n",
       "      <td>1.0</td>\n",
       "      <td>7.888889</td>\n",
       "      <td>0.111111</td>\n",
       "      <td>1</td>\n",
       "      <td>3</td>\n",
       "      <td>1</td>\n",
       "    </tr>\n",
       "    <tr>\n",
       "      <th>472301</th>\n",
       "      <td>8.0</td>\n",
       "      <td>703894</td>\n",
       "      <td>2</td>\n",
       "      <td>238</td>\n",
       "      <td>1</td>\n",
       "      <td>3</td>\n",
       "      <td>0</td>\n",
       "      <td>3169057.0</td>\n",
       "      <td>2</td>\n",
       "      <td>0</td>\n",
       "      <td>...</td>\n",
       "      <td>0.111111</td>\n",
       "      <td>1.0</td>\n",
       "      <td>0.444444</td>\n",
       "      <td>1.0</td>\n",
       "      <td>1.0</td>\n",
       "      <td>7.888889</td>\n",
       "      <td>0.111111</td>\n",
       "      <td>1</td>\n",
       "      <td>3</td>\n",
       "      <td>1</td>\n",
       "    </tr>\n",
       "    <tr>\n",
       "      <th>473131</th>\n",
       "      <td>8.0</td>\n",
       "      <td>703894</td>\n",
       "      <td>2</td>\n",
       "      <td>238</td>\n",
       "      <td>1</td>\n",
       "      <td>3</td>\n",
       "      <td>0</td>\n",
       "      <td>3180785.0</td>\n",
       "      <td>1</td>\n",
       "      <td>1</td>\n",
       "      <td>...</td>\n",
       "      <td>0.111111</td>\n",
       "      <td>1.0</td>\n",
       "      <td>0.444444</td>\n",
       "      <td>1.0</td>\n",
       "      <td>1.0</td>\n",
       "      <td>7.888889</td>\n",
       "      <td>0.111111</td>\n",
       "      <td>1</td>\n",
       "      <td>3</td>\n",
       "      <td>1</td>\n",
       "    </tr>\n",
       "    <tr>\n",
       "      <th>473135</th>\n",
       "      <td>8.0</td>\n",
       "      <td>703894</td>\n",
       "      <td>2</td>\n",
       "      <td>238</td>\n",
       "      <td>1</td>\n",
       "      <td>3</td>\n",
       "      <td>0</td>\n",
       "      <td>3180856.0</td>\n",
       "      <td>0</td>\n",
       "      <td>0</td>\n",
       "      <td>...</td>\n",
       "      <td>0.111111</td>\n",
       "      <td>1.0</td>\n",
       "      <td>0.444444</td>\n",
       "      <td>1.0</td>\n",
       "      <td>1.0</td>\n",
       "      <td>7.888889</td>\n",
       "      <td>0.111111</td>\n",
       "      <td>1</td>\n",
       "      <td>3</td>\n",
       "      <td>1</td>\n",
       "    </tr>\n",
       "  </tbody>\n",
       "</table>\n",
       "<p>5 rows × 41 columns</p>\n",
       "</div>"
      ],
      "text/plain": [
       "        timelong  device  log_from  city  result  type  is_scan   timediff  \\\n",
       "rowkey                                                                       \n",
       "560306       6.0  781684         2   400       1     3        0      732.0   \n",
       "472263       8.0  703894         2   238       1     3        0  3168529.0   \n",
       "472301       8.0  703894         2   238       1     3        0  3169057.0   \n",
       "473131       8.0  703894         2   238       1     3        0  3180785.0   \n",
       "473135       8.0  703894         2   238       1     3        0  3180856.0   \n",
       "\n",
       "        future_day_trade  future_hour_trade      ...         ip_prob  \\\n",
       "rowkey                                           ...                   \n",
       "560306                 0                  0      ...        0.500000   \n",
       "472263                 3                  1      ...        0.111111   \n",
       "472301                 2                  0      ...        0.111111   \n",
       "473131                 1                  1      ...        0.111111   \n",
       "473135                 0                  0      ...        0.111111   \n",
       "\n",
       "        city_prob  result_prob  type_prob  is_scan_prob  timelong_mean  \\\n",
       "rowkey                                                                   \n",
       "560306        0.5     0.750000        1.0           1.0      23.408250   \n",
       "472263        1.0     0.444444        1.0           1.0       7.888889   \n",
       "472301        1.0     0.444444        1.0           1.0       7.888889   \n",
       "473131        1.0     0.444444        1.0           1.0       7.888889   \n",
       "473135        1.0     0.444444        1.0           1.0       7.888889   \n",
       "\n",
       "        timelong_diff  id_num_of_dev  device_num  dev_num_of_ip  \n",
       "rowkey                                                           \n",
       "560306     -17.408250              1           3              1  \n",
       "472263       0.111111              1           3              1  \n",
       "472301       0.111111              1           3              1  \n",
       "473131       0.111111              1           3              1  \n",
       "473135       0.111111              1           3              1  \n",
       "\n",
       "[5 rows x 41 columns]"
      ]
     },
     "execution_count": 29,
     "metadata": {},
     "output_type": "execute_result"
    }
   ],
   "source": [
    "X_train.head()"
   ]
  },
  {
   "cell_type": "code",
   "execution_count": 30,
   "metadata": {
    "scrolled": true
   },
   "outputs": [
    {
     "name": "stderr",
     "output_type": "stream",
     "text": [
      "/Users/sunan/anaconda/lib/python3.6/site-packages/ipykernel_launcher.py:11: DataConversionWarning: A column-vector y was passed when a 1d array was expected. Please change the shape of y to (n_samples,), for example using ravel().\n",
      "  # This is added back by InteractiveShellApp.init_path()\n"
     ]
    },
    {
     "name": "stdout",
     "output_type": "stream",
     "text": [
      "50 2 0.797068771139\n"
     ]
    },
    {
     "name": "stderr",
     "output_type": "stream",
     "text": [
      "/Users/sunan/anaconda/lib/python3.6/site-packages/ipykernel_launcher.py:11: DataConversionWarning: A column-vector y was passed when a 1d array was expected. Please change the shape of y to (n_samples,), for example using ravel().\n",
      "  # This is added back by InteractiveShellApp.init_path()\n"
     ]
    },
    {
     "name": "stdout",
     "output_type": "stream",
     "text": [
      "50 4 0.830964846672\n"
     ]
    },
    {
     "name": "stderr",
     "output_type": "stream",
     "text": [
      "/Users/sunan/anaconda/lib/python3.6/site-packages/ipykernel_launcher.py:11: DataConversionWarning: A column-vector y was passed when a 1d array was expected. Please change the shape of y to (n_samples,), for example using ravel().\n",
      "  # This is added back by InteractiveShellApp.init_path()\n"
     ]
    },
    {
     "name": "stdout",
     "output_type": "stream",
     "text": [
      "50 6 0.793193717277\n"
     ]
    },
    {
     "name": "stderr",
     "output_type": "stream",
     "text": [
      "/Users/sunan/anaconda/lib/python3.6/site-packages/ipykernel_launcher.py:11: DataConversionWarning: A column-vector y was passed when a 1d array was expected. Please change the shape of y to (n_samples,), for example using ravel().\n",
      "  # This is added back by InteractiveShellApp.init_path()\n"
     ]
    },
    {
     "name": "stdout",
     "output_type": "stream",
     "text": [
      "50 8 0.723251895535\n"
     ]
    },
    {
     "name": "stderr",
     "output_type": "stream",
     "text": [
      "/Users/sunan/anaconda/lib/python3.6/site-packages/ipykernel_launcher.py:11: DataConversionWarning: A column-vector y was passed when a 1d array was expected. Please change the shape of y to (n_samples,), for example using ravel().\n",
      "  # This is added back by InteractiveShellApp.init_path()\n"
     ]
    },
    {
     "name": "stdout",
     "output_type": "stream",
     "text": [
      "70 2 0.854002254791\n"
     ]
    },
    {
     "name": "stderr",
     "output_type": "stream",
     "text": [
      "/Users/sunan/anaconda/lib/python3.6/site-packages/ipykernel_launcher.py:11: DataConversionWarning: A column-vector y was passed when a 1d array was expected. Please change the shape of y to (n_samples,), for example using ravel().\n",
      "  # This is added back by InteractiveShellApp.init_path()\n"
     ]
    },
    {
     "name": "stdout",
     "output_type": "stream",
     "text": [
      "70 4 0.801009372747\n"
     ]
    },
    {
     "name": "stderr",
     "output_type": "stream",
     "text": [
      "/Users/sunan/anaconda/lib/python3.6/site-packages/ipykernel_launcher.py:11: DataConversionWarning: A column-vector y was passed when a 1d array was expected. Please change the shape of y to (n_samples,), for example using ravel().\n",
      "  # This is added back by InteractiveShellApp.init_path()\n"
     ]
    },
    {
     "name": "stdout",
     "output_type": "stream",
     "text": [
      "70 6 0.72283669486\n"
     ]
    },
    {
     "name": "stderr",
     "output_type": "stream",
     "text": [
      "/Users/sunan/anaconda/lib/python3.6/site-packages/ipykernel_launcher.py:11: DataConversionWarning: A column-vector y was passed when a 1d array was expected. Please change the shape of y to (n_samples,), for example using ravel().\n",
      "  # This is added back by InteractiveShellApp.init_path()\n"
     ]
    },
    {
     "name": "stdout",
     "output_type": "stream",
     "text": [
      "70 8 0.745532245532\n"
     ]
    },
    {
     "name": "stderr",
     "output_type": "stream",
     "text": [
      "/Users/sunan/anaconda/lib/python3.6/site-packages/ipykernel_launcher.py:11: DataConversionWarning: A column-vector y was passed when a 1d array was expected. Please change the shape of y to (n_samples,), for example using ravel().\n",
      "  # This is added back by InteractiveShellApp.init_path()\n"
     ]
    },
    {
     "name": "stdout",
     "output_type": "stream",
     "text": [
      "90 2 0.862326574173\n"
     ]
    },
    {
     "name": "stderr",
     "output_type": "stream",
     "text": [
      "/Users/sunan/anaconda/lib/python3.6/site-packages/ipykernel_launcher.py:11: DataConversionWarning: A column-vector y was passed when a 1d array was expected. Please change the shape of y to (n_samples,), for example using ravel().\n",
      "  # This is added back by InteractiveShellApp.init_path()\n"
     ]
    },
    {
     "name": "stdout",
     "output_type": "stream",
     "text": [
      "90 4 0.793193717277\n"
     ]
    },
    {
     "name": "stderr",
     "output_type": "stream",
     "text": [
      "/Users/sunan/anaconda/lib/python3.6/site-packages/ipykernel_launcher.py:11: DataConversionWarning: A column-vector y was passed when a 1d array was expected. Please change the shape of y to (n_samples,), for example using ravel().\n",
      "  # This is added back by InteractiveShellApp.init_path()\n"
     ]
    },
    {
     "name": "stdout",
     "output_type": "stream",
     "text": [
      "90 6 0.773138482951\n"
     ]
    },
    {
     "name": "stderr",
     "output_type": "stream",
     "text": [
      "/Users/sunan/anaconda/lib/python3.6/site-packages/ipykernel_launcher.py:11: DataConversionWarning: A column-vector y was passed when a 1d array was expected. Please change the shape of y to (n_samples,), for example using ravel().\n",
      "  # This is added back by InteractiveShellApp.init_path()\n"
     ]
    },
    {
     "name": "stdout",
     "output_type": "stream",
     "text": [
      "90 8 0.745532245532\n"
     ]
    },
    {
     "name": "stderr",
     "output_type": "stream",
     "text": [
      "/Users/sunan/anaconda/lib/python3.6/site-packages/ipykernel_launcher.py:11: DataConversionWarning: A column-vector y was passed when a 1d array was expected. Please change the shape of y to (n_samples,), for example using ravel().\n",
      "  # This is added back by InteractiveShellApp.init_path()\n"
     ]
    },
    {
     "name": "stdout",
     "output_type": "stream",
     "text": [
      "110 2 0.862326574173\n"
     ]
    },
    {
     "name": "stderr",
     "output_type": "stream",
     "text": [
      "/Users/sunan/anaconda/lib/python3.6/site-packages/ipykernel_launcher.py:11: DataConversionWarning: A column-vector y was passed when a 1d array was expected. Please change the shape of y to (n_samples,), for example using ravel().\n",
      "  # This is added back by InteractiveShellApp.init_path()\n"
     ]
    },
    {
     "name": "stdout",
     "output_type": "stream",
     "text": [
      "110 4 0.830964846672\n"
     ]
    },
    {
     "name": "stderr",
     "output_type": "stream",
     "text": [
      "/Users/sunan/anaconda/lib/python3.6/site-packages/ipykernel_launcher.py:11: DataConversionWarning: A column-vector y was passed when a 1d array was expected. Please change the shape of y to (n_samples,), for example using ravel().\n",
      "  # This is added back by InteractiveShellApp.init_path()\n"
     ]
    },
    {
     "name": "stdout",
     "output_type": "stream",
     "text": [
      "110 6 0.747141896436\n"
     ]
    },
    {
     "name": "stderr",
     "output_type": "stream",
     "text": [
      "/Users/sunan/anaconda/lib/python3.6/site-packages/ipykernel_launcher.py:11: DataConversionWarning: A column-vector y was passed when a 1d array was expected. Please change the shape of y to (n_samples,), for example using ravel().\n",
      "  # This is added back by InteractiveShellApp.init_path()\n"
     ]
    },
    {
     "name": "stdout",
     "output_type": "stream",
     "text": [
      "110 8 0.745532245532\n"
     ]
    },
    {
     "name": "stderr",
     "output_type": "stream",
     "text": [
      "/Users/sunan/anaconda/lib/python3.6/site-packages/ipykernel_launcher.py:11: DataConversionWarning: A column-vector y was passed when a 1d array was expected. Please change the shape of y to (n_samples,), for example using ravel().\n",
      "  # This is added back by InteractiveShellApp.init_path()\n"
     ]
    },
    {
     "name": "stdout",
     "output_type": "stream",
     "text": [
      "130 2 0.869807497467\n"
     ]
    },
    {
     "name": "stderr",
     "output_type": "stream",
     "text": [
      "/Users/sunan/anaconda/lib/python3.6/site-packages/ipykernel_launcher.py:11: DataConversionWarning: A column-vector y was passed when a 1d array was expected. Please change the shape of y to (n_samples,), for example using ravel().\n",
      "  # This is added back by InteractiveShellApp.init_path()\n"
     ]
    },
    {
     "name": "stdout",
     "output_type": "stream",
     "text": [
      "130 4 0.793193717277\n"
     ]
    },
    {
     "name": "stderr",
     "output_type": "stream",
     "text": [
      "/Users/sunan/anaconda/lib/python3.6/site-packages/ipykernel_launcher.py:11: DataConversionWarning: A column-vector y was passed when a 1d array was expected. Please change the shape of y to (n_samples,), for example using ravel().\n",
      "  # This is added back by InteractiveShellApp.init_path()\n"
     ]
    },
    {
     "name": "stdout",
     "output_type": "stream",
     "text": [
      "130 6 0.764599855804\n"
     ]
    },
    {
     "name": "stderr",
     "output_type": "stream",
     "text": [
      "/Users/sunan/anaconda/lib/python3.6/site-packages/ipykernel_launcher.py:11: DataConversionWarning: A column-vector y was passed when a 1d array was expected. Please change the shape of y to (n_samples,), for example using ravel().\n",
      "  # This is added back by InteractiveShellApp.init_path()\n"
     ]
    },
    {
     "name": "stdout",
     "output_type": "stream",
     "text": [
      "130 8 0.775666936136\n"
     ]
    }
   ],
   "source": [
    "#########tuning; (90,2)gives the best result######### \n",
    "from sklearn.metrics import fbeta_score, make_scorer\n",
    "from sklearn.ensemble import RandomForestClassifier\n",
    "\n",
    "n_estimators_adj = list(range(50,150,20))\n",
    "max_features = list(range(2,10,2))\n",
    "\n",
    "for value in n_estimators_adj:\n",
    "    for o in max_features:\n",
    "        clf = RandomForestClassifier(n_estimators=value,max_features = o ,random_state=20, class_weight='balanced')\n",
    "        clf.fit(X_train,y_train)\n",
    "        test_pred = clf.predict(X_test)\n",
    "        f_beta_score = fbeta_score(y_true = y_test,y_pred = test_pred, beta = 0.1)\n",
    "        print(value, o, f_beta_score)\n"
   ]
  },
  {
   "cell_type": "code",
   "execution_count": 31,
   "metadata": {
    "collapsed": true
   },
   "outputs": [],
   "source": [
    "from sklearn.metrics import confusion_matrix\n",
    "import itertools\n",
    "\n",
    "###<summary>\n",
    "### draw a precision confusion matrix\n",
    "###<return> precision confusion matrix\n",
    "###<summary>\n",
    "def plot_confusion_matrix_precision(cm, classes,\n",
    "                          normalize=True,\n",
    "                          title='Precision Confusion matrix',\n",
    "                          cmap=plt.cm.Blues):\n",
    "    \"\"\"\n",
    "    This function prints and plots the confusion matrix.\n",
    "    Normalization can be applied by setting `normalize=True`.\n",
    "    \"\"\"\n",
    "    if normalize:\n",
    "        cm = cm.astype('float') / cm.sum(axis=0)[np.newaxis,:]\n",
    "        #print(\"Normalized confusion matrix\")\n",
    "    else:\n",
    "        print('Confusion matrix, without normalization')\n",
    "\n",
    "    #print(cm)\n",
    "\n",
    "    plt.imshow(cm, interpolation='nearest', cmap=cmap,aspect = 'auto')\n",
    "    plt.title(title)\n",
    "    plt.colorbar()\n",
    "    tick_marks = np.arange(len(classes))\n",
    "    plt.xticks(tick_marks, classes, rotation=45)\n",
    "    plt.yticks(tick_marks, classes)\n",
    "\n",
    "    fmt = '.2f' if normalize else 'd'\n",
    "    thresh = cm.max() / 2.\n",
    "    for i, j in itertools.product(range(cm.shape[0]), range(cm.shape[1])):\n",
    "        plt.text(j, i, format(cm[i, j], fmt),\n",
    "                 horizontalalignment=\"center\",\n",
    "                 color=\"white\" if cm[i, j] > thresh else \"black\")\n",
    "\n",
    "    plt.tight_layout()\n",
    "    plt.ylabel('True label')\n",
    "    plt.xlabel('Predicted label')\n",
    "\n",
    "    \n",
    "###<summary>\n",
    "### draw a recall confusion matrix\n",
    "###<return> recall confusion matrix\n",
    "###<summary>\n",
    "\n",
    "def plot_confusion_matrix_recall(cm, classes,\n",
    "                          normalize=True,\n",
    "                          title='Recall Confusion matrix',\n",
    "                          cmap=plt.cm.Blues):\n",
    "    \"\"\"\n",
    "    This function prints and plots the confusion matrix.\n",
    "    Normalization can be applied by setting `normalize=True`.\n",
    "    \"\"\"\n",
    "    if normalize:\n",
    "        cm = cm.astype('float') / cm.sum(axis=1)[:,np.newaxis]\n",
    "        #print(\"Normalized confusion matrix\")\n",
    "    else:\n",
    "        print('Confusion matrix, without normalization')\n",
    "\n",
    "    #print(cm)\n",
    "\n",
    "    plt.imshow(cm, interpolation='nearest', cmap=cmap,aspect = 'auto')\n",
    "    plt.title(title)\n",
    "    plt.colorbar()\n",
    "    tick_marks = np.arange(len(classes))\n",
    "    plt.xticks(tick_marks, classes, rotation=45)\n",
    "    plt.yticks(tick_marks, classes)\n",
    "\n",
    "    fmt = '.2f' if normalize else 'd'\n",
    "    thresh = cm.max() / 2.\n",
    "    for i, j in itertools.product(range(cm.shape[0]), range(cm.shape[1])):\n",
    "        plt.text(j, i, format(cm[i, j], fmt),\n",
    "                 horizontalalignment=\"center\",\n",
    "                 color=\"white\" if cm[i, j] > thresh else \"black\")\n",
    "\n",
    "    plt.tight_layout()\n",
    "    plt.ylabel('True label')\n",
    "    plt.xlabel('Predicted label')\n",
    "    \n",
    "\n",
    "###<summary>\n",
    "### combine both confusion matrixs\n",
    "###<return> two confusion matrix\n",
    "###<summary>\n",
    "\n",
    "def plot_confusion_matrix(cm, classes,\n",
    "                          normalize=True,\n",
    "                          title='Confusion matrix',\n",
    "                          cmap=plt.cm.Blues):\n",
    "\n",
    "    print(cm)\n",
    "    fig = plt.figure(figsize = (10,5))# Changed the size of the figure, just aesthetic\n",
    "    plt.subplot(1,2,1)\n",
    "\n",
    "    plot_confusion_matrix_precision(cm, classes,\n",
    "                          normalize=True,\n",
    "                          cmap=plt.cm.Blues)\n",
    "    plt.subplot(1,2,2)\n",
    "\n",
    "    plot_confusion_matrix_recall(cm, classes,\n",
    "                          normalize=True,\n",
    "                          cmap=plt.cm.Blues)"
   ]
  },
  {
   "cell_type": "code",
   "execution_count": 32,
   "metadata": {},
   "outputs": [
    {
     "name": "stderr",
     "output_type": "stream",
     "text": [
      "/Users/sunan/anaconda/lib/python3.6/site-packages/sklearn/utils/validation.py:578: DataConversionWarning: A column-vector y was passed when a 1d array was expected. Please change the shape of y to (n_samples, ), for example using ravel().\n",
      "  y = column_or_1d(y, warn=True)\n"
     ]
    }
   ],
   "source": [
    "#############Using InstanceHardnessThreshold to down-sampling###########\n",
    "from sklearn.linear_model import LogisticRegression\n",
    "from imblearn.under_sampling import InstanceHardnessThreshold\n",
    "iht = InstanceHardnessThreshold(random_state=20, estimator=LogisticRegression())\n",
    "X_resampled, y_resampled = iht.fit_sample(X_train,y_train)\n"
   ]
  },
  {
   "cell_type": "code",
   "execution_count": 33,
   "metadata": {},
   "outputs": [
    {
     "name": "stdout",
     "output_type": "stream",
     "text": [
      "0.0431303512942 23\n"
     ]
    }
   ],
   "source": [
    "clf = RandomForestClassifier(random_state=20,class_weight='balanced')\n",
    "clf.fit(X_resampled, y_resampled)\n",
    "predict = clf.predict(X_train)\n",
    "f_beta_score = fbeta_score(y_true = y_train,y_pred = predict, beta = 0.1)\n",
    "print(f_beta_score,sum(test_pred))"
   ]
  },
  {
   "cell_type": "code",
   "execution_count": 34,
   "metadata": {},
   "outputs": [
    {
     "name": "stdout",
     "output_type": "stream",
     "text": [
      "[[37424 77776]\n",
      " [    3  3471]]\n"
     ]
    },
    {
     "data": {
      "text/plain": [
       "<matplotlib.figure.Figure at 0x1064d8160>"
      ]
     },
     "metadata": {},
     "output_type": "display_data"
    },
    {
     "data": {
      "image/png": "[encoded data removed]",
      "text/plain": [
       "<matplotlib.figure.Figure at 0x1247369e8>"
      ]
     },
     "metadata": {},
     "output_type": "display_data"
    }
   ],
   "source": [
    "class_names = ['Normal','Risk']\n",
    "\n",
    "cnf_matrix = confusion_matrix(y_train, predict)\n",
    "np.set_printoptions(precision=2)\n",
    "\n",
    "# Plot normalized confusion matrix\n",
    "plt.figure()\n",
    "plot_confusion_matrix(cnf_matrix, classes=class_names, normalize=True,\n",
    "                      title='Confusion matrix')\n",
    "\n",
    "plt.show()"
   ]
  },
  {
   "cell_type": "code",
   "execution_count": 35,
   "metadata": {
    "collapsed": true
   },
   "outputs": [],
   "source": [
    "newX_train = X_train[predict!= 0]\n",
    "newy_train = y_train[predict!= 0]"
   ]
  },
  {
   "cell_type": "code",
   "execution_count": 36,
   "metadata": {},
   "outputs": [
    {
     "name": "stderr",
     "output_type": "stream",
     "text": [
      "/Users/sunan/anaconda/lib/python3.6/site-packages/ipykernel_launcher.py:2: DataConversionWarning: A column-vector y was passed when a 1d array was expected. Please change the shape of y to (n_samples,), for example using ravel().\n",
      "  \n"
     ]
    },
    {
     "name": "stdout",
     "output_type": "stream",
     "text": [
      "0.717651458489 25\n"
     ]
    }
   ],
   "source": [
    "clf = RandomForestClassifier(random_state=20, class_weight='balanced')\n",
    "clf.fit(newX_train,newy_train)\n",
    "newtest_pred = clf.predict(X_test)\n",
    "f_beta_score = fbeta_score(y_true = y_test,y_pred = newtest_pred, beta = 0.1)\n",
    "print(f_beta_score,sum(newtest_pred))"
   ]
  },
  {
   "cell_type": "code",
   "execution_count": 37,
   "metadata": {},
   "outputs": [
    {
     "name": "stdout",
     "output_type": "stream",
     "text": [
      "[[14156     6]\n",
      " [  155    19]]\n"
     ]
    },
    {
     "data": {
      "text/plain": [
       "<matplotlib.figure.Figure at 0x1159e8a58>"
      ]
     },
     "metadata": {},
     "output_type": "display_data"
    },
    {
     "data": {
      "image/png": "[encoded data removed]",
      "text/plain": [
       "<matplotlib.figure.Figure at 0x1191dceb8>"
      ]
     },
     "metadata": {},
     "output_type": "display_data"
    }
   ],
   "source": [
    "class_names = ['Normal','Risk']\n",
    "\n",
    "cnf_matrix = confusion_matrix(y_test, newtest_pred)\n",
    "np.set_printoptions(precision=2)\n",
    "\n",
    "# Plot normalized confusion matrix\n",
    "plt.figure()\n",
    "plot_confusion_matrix(cnf_matrix, classes=class_names, normalize=True,\n",
    "                      title='Confusion matrix')\n",
    "\n",
    "plt.show()"
   ]
  },
  {
   "cell_type": "code",
   "execution_count": 38,
   "metadata": {
    "scrolled": true
   },
   "outputs": [
    {
     "name": "stderr",
     "output_type": "stream",
     "text": [
      "/Users/sunan/anaconda/lib/python3.6/site-packages/ipykernel_launcher.py:8: DataConversionWarning: A column-vector y was passed when a 1d array was expected. Please change the shape of y to (n_samples,), for example using ravel().\n",
      "  \n"
     ]
    },
    {
     "name": "stdout",
     "output_type": "stream",
     "text": [
      "50 2 0.808340353833\n"
     ]
    },
    {
     "name": "stderr",
     "output_type": "stream",
     "text": [
      "/Users/sunan/anaconda/lib/python3.6/site-packages/ipykernel_launcher.py:8: DataConversionWarning: A column-vector y was passed when a 1d array was expected. Please change the shape of y to (n_samples,), for example using ravel().\n",
      "  \n"
     ]
    },
    {
     "name": "stdout",
     "output_type": "stream",
     "text": [
      "50 4 0.755057167986\n"
     ]
    },
    {
     "name": "stderr",
     "output_type": "stream",
     "text": [
      "/Users/sunan/anaconda/lib/python3.6/site-packages/ipykernel_launcher.py:8: DataConversionWarning: A column-vector y was passed when a 1d array was expected. Please change the shape of y to (n_samples,), for example using ravel().\n",
      "  \n"
     ]
    },
    {
     "name": "stdout",
     "output_type": "stream",
     "text": [
      "50 6 0.784770784771\n"
     ]
    },
    {
     "name": "stderr",
     "output_type": "stream",
     "text": [
      "/Users/sunan/anaconda/lib/python3.6/site-packages/ipykernel_launcher.py:8: DataConversionWarning: A column-vector y was passed when a 1d array was expected. Please change the shape of y to (n_samples,), for example using ravel().\n",
      "  \n"
     ]
    },
    {
     "name": "stdout",
     "output_type": "stream",
     "text": [
      "50 8 0.669051404346\n"
     ]
    },
    {
     "name": "stderr",
     "output_type": "stream",
     "text": [
      "/Users/sunan/anaconda/lib/python3.6/site-packages/ipykernel_launcher.py:8: DataConversionWarning: A column-vector y was passed when a 1d array was expected. Please change the shape of y to (n_samples,), for example using ravel().\n",
      "  \n"
     ]
    },
    {
     "name": "stdout",
     "output_type": "stream",
     "text": [
      "70 2 0.775666936136\n"
     ]
    },
    {
     "name": "stderr",
     "output_type": "stream",
     "text": [
      "/Users/sunan/anaconda/lib/python3.6/site-packages/ipykernel_launcher.py:8: DataConversionWarning: A column-vector y was passed when a 1d array was expected. Please change the shape of y to (n_samples,), for example using ravel().\n",
      "  \n"
     ]
    },
    {
     "name": "stdout",
     "output_type": "stream",
     "text": [
      "70 4 0.764599855804\n"
     ]
    },
    {
     "name": "stderr",
     "output_type": "stream",
     "text": [
      "/Users/sunan/anaconda/lib/python3.6/site-packages/ipykernel_launcher.py:8: DataConversionWarning: A column-vector y was passed when a 1d array was expected. Please change the shape of y to (n_samples,), for example using ravel().\n",
      "  \n"
     ]
    },
    {
     "name": "stdout",
     "output_type": "stream",
     "text": [
      "70 6 0.850884582982\n"
     ]
    },
    {
     "name": "stderr",
     "output_type": "stream",
     "text": [
      "/Users/sunan/anaconda/lib/python3.6/site-packages/ipykernel_launcher.py:8: DataConversionWarning: A column-vector y was passed when a 1d array was expected. Please change the shape of y to (n_samples,), for example using ravel().\n",
      "  \n"
     ]
    },
    {
     "name": "stdout",
     "output_type": "stream",
     "text": [
      "70 8 0.604599873976\n"
     ]
    },
    {
     "name": "stderr",
     "output_type": "stream",
     "text": [
      "/Users/sunan/anaconda/lib/python3.6/site-packages/ipykernel_launcher.py:8: DataConversionWarning: A column-vector y was passed when a 1d array was expected. Please change the shape of y to (n_samples,), for example using ravel().\n",
      "  \n"
     ]
    },
    {
     "name": "stdout",
     "output_type": "stream",
     "text": [
      "90 2 0.784770784771\n"
     ]
    },
    {
     "name": "stderr",
     "output_type": "stream",
     "text": [
      "/Users/sunan/anaconda/lib/python3.6/site-packages/ipykernel_launcher.py:8: DataConversionWarning: A column-vector y was passed when a 1d array was expected. Please change the shape of y to (n_samples,), for example using ravel().\n",
      "  \n"
     ]
    },
    {
     "name": "stdout",
     "output_type": "stream",
     "text": [
      "90 4 0.850884582982\n"
     ]
    },
    {
     "name": "stderr",
     "output_type": "stream",
     "text": [
      "/Users/sunan/anaconda/lib/python3.6/site-packages/ipykernel_launcher.py:8: DataConversionWarning: A column-vector y was passed when a 1d array was expected. Please change the shape of y to (n_samples,), for example using ravel().\n",
      "  \n"
     ]
    },
    {
     "name": "stdout",
     "output_type": "stream",
     "text": [
      "90 6 0.843887423043\n"
     ]
    },
    {
     "name": "stderr",
     "output_type": "stream",
     "text": [
      "/Users/sunan/anaconda/lib/python3.6/site-packages/ipykernel_launcher.py:8: DataConversionWarning: A column-vector y was passed when a 1d array was expected. Please change the shape of y to (n_samples,), for example using ravel().\n",
      "  \n"
     ]
    },
    {
     "name": "stdout",
     "output_type": "stream",
     "text": [
      "90 8 0.628630705394\n"
     ]
    },
    {
     "name": "stderr",
     "output_type": "stream",
     "text": [
      "/Users/sunan/anaconda/lib/python3.6/site-packages/ipykernel_launcher.py:8: DataConversionWarning: A column-vector y was passed when a 1d array was expected. Please change the shape of y to (n_samples,), for example using ravel().\n",
      "  \n"
     ]
    },
    {
     "name": "stdout",
     "output_type": "stream",
     "text": [
      "110 2 0.808340353833\n"
     ]
    },
    {
     "name": "stderr",
     "output_type": "stream",
     "text": [
      "/Users/sunan/anaconda/lib/python3.6/site-packages/ipykernel_launcher.py:8: DataConversionWarning: A column-vector y was passed when a 1d array was expected. Please change the shape of y to (n_samples,), for example using ravel().\n",
      "  \n"
     ]
    },
    {
     "name": "stdout",
     "output_type": "stream",
     "text": [
      "110 4 0.876567020251\n"
     ]
    },
    {
     "name": "stderr",
     "output_type": "stream",
     "text": [
      "/Users/sunan/anaconda/lib/python3.6/site-packages/ipykernel_launcher.py:8: DataConversionWarning: A column-vector y was passed when a 1d array was expected. Please change the shape of y to (n_samples,), for example using ravel().\n",
      "  \n"
     ]
    },
    {
     "name": "stdout",
     "output_type": "stream",
     "text": [
      "110 6 0.882704691812\n"
     ]
    },
    {
     "name": "stderr",
     "output_type": "stream",
     "text": [
      "/Users/sunan/anaconda/lib/python3.6/site-packages/ipykernel_launcher.py:8: DataConversionWarning: A column-vector y was passed when a 1d array was expected. Please change the shape of y to (n_samples,), for example using ravel().\n",
      "  \n"
     ]
    },
    {
     "name": "stdout",
     "output_type": "stream",
     "text": [
      "110 8 0.660795168596\n"
     ]
    },
    {
     "name": "stderr",
     "output_type": "stream",
     "text": [
      "/Users/sunan/anaconda/lib/python3.6/site-packages/ipykernel_launcher.py:8: DataConversionWarning: A column-vector y was passed when a 1d array was expected. Please change the shape of y to (n_samples,), for example using ravel().\n",
      "  \n"
     ]
    },
    {
     "name": "stdout",
     "output_type": "stream",
     "text": [
      "130 2 0.799472295515\n"
     ]
    },
    {
     "name": "stderr",
     "output_type": "stream",
     "text": [
      "/Users/sunan/anaconda/lib/python3.6/site-packages/ipykernel_launcher.py:8: DataConversionWarning: A column-vector y was passed when a 1d array was expected. Please change the shape of y to (n_samples,), for example using ravel().\n",
      "  \n"
     ]
    },
    {
     "name": "stdout",
     "output_type": "stream",
     "text": [
      "130 4 0.893428812131\n"
     ]
    },
    {
     "name": "stderr",
     "output_type": "stream",
     "text": [
      "/Users/sunan/anaconda/lib/python3.6/site-packages/ipykernel_launcher.py:8: DataConversionWarning: A column-vector y was passed when a 1d array was expected. Please change the shape of y to (n_samples,), for example using ravel().\n",
      "  \n"
     ]
    },
    {
     "name": "stdout",
     "output_type": "stream",
     "text": [
      "130 6 0.888302550572\n"
     ]
    },
    {
     "name": "stderr",
     "output_type": "stream",
     "text": [
      "/Users/sunan/anaconda/lib/python3.6/site-packages/ipykernel_launcher.py:8: DataConversionWarning: A column-vector y was passed when a 1d array was expected. Please change the shape of y to (n_samples,), for example using ravel().\n",
      "  \n"
     ]
    },
    {
     "name": "stdout",
     "output_type": "stream",
     "text": [
      "130 8 0.660795168596\n"
     ]
    }
   ],
   "source": [
    "########adjust n_stimators########\n",
    "n_estimators_adj = list(range(50,150,20))\n",
    "max_features = list(range(2,10,2))\n",
    "\n",
    "for value in n_estimators_adj:\n",
    "    for o in max_features:\n",
    "        clf = RandomForestClassifier(n_estimators=value,max_features = o ,random_state=20, class_weight='balanced')\n",
    "        clf.fit(newX_train,newy_train)\n",
    "        newtest_pred = clf.predict(X_test)\n",
    "        f_beta_score = fbeta_score(y_true = y_test,y_pred = newtest_pred, beta = 0.1)\n",
    "        print (value, o, f_beta_score)"
   ]
  },
  {
   "cell_type": "code",
   "execution_count": 39,
   "metadata": {
    "scrolled": true
   },
   "outputs": [
    {
     "name": "stderr",
     "output_type": "stream",
     "text": [
      "/Users/sunan/anaconda/lib/python3.6/site-packages/ipykernel_launcher.py:8: DataConversionWarning: A column-vector y was passed when a 1d array was expected. Please change the shape of y to (n_samples,), for example using ravel().\n",
      "  \n"
     ]
    },
    {
     "name": "stdout",
     "output_type": "stream",
     "text": [
      "30 1 0.767477203647\n"
     ]
    },
    {
     "name": "stderr",
     "output_type": "stream",
     "text": [
      "/Users/sunan/anaconda/lib/python3.6/site-packages/ipykernel_launcher.py:8: DataConversionWarning: A column-vector y was passed when a 1d array was expected. Please change the shape of y to (n_samples,), for example using ravel().\n",
      "  \n"
     ]
    },
    {
     "name": "stdout",
     "output_type": "stream",
     "text": [
      "30 2 0.816491511722\n"
     ]
    },
    {
     "name": "stderr",
     "output_type": "stream",
     "text": [
      "/Users/sunan/anaconda/lib/python3.6/site-packages/ipykernel_launcher.py:8: DataConversionWarning: A column-vector y was passed when a 1d array was expected. Please change the shape of y to (n_samples,), for example using ravel().\n",
      "  \n"
     ]
    },
    {
     "name": "stdout",
     "output_type": "stream",
     "text": [
      "30 3 0.799472295515\n"
     ]
    },
    {
     "name": "stderr",
     "output_type": "stream",
     "text": [
      "/Users/sunan/anaconda/lib/python3.6/site-packages/ipykernel_launcher.py:8: DataConversionWarning: A column-vector y was passed when a 1d array was expected. Please change the shape of y to (n_samples,), for example using ravel().\n",
      "  \n"
     ]
    },
    {
     "name": "stdout",
     "output_type": "stream",
     "text": [
      "50 1 0.818642350557\n"
     ]
    },
    {
     "name": "stderr",
     "output_type": "stream",
     "text": [
      "/Users/sunan/anaconda/lib/python3.6/site-packages/ipykernel_launcher.py:8: DataConversionWarning: A column-vector y was passed when a 1d array was expected. Please change the shape of y to (n_samples,), for example using ravel().\n",
      "  \n"
     ]
    },
    {
     "name": "stdout",
     "output_type": "stream",
     "text": [
      "50 2 0.808340353833\n"
     ]
    },
    {
     "name": "stderr",
     "output_type": "stream",
     "text": [
      "/Users/sunan/anaconda/lib/python3.6/site-packages/ipykernel_launcher.py:8: DataConversionWarning: A column-vector y was passed when a 1d array was expected. Please change the shape of y to (n_samples,), for example using ravel().\n",
      "  \n"
     ]
    },
    {
     "name": "stdout",
     "output_type": "stream",
     "text": [
      "50 3 0.808340353833\n"
     ]
    },
    {
     "name": "stderr",
     "output_type": "stream",
     "text": [
      "/Users/sunan/anaconda/lib/python3.6/site-packages/ipykernel_launcher.py:8: DataConversionWarning: A column-vector y was passed when a 1d array was expected. Please change the shape of y to (n_samples,), for example using ravel().\n",
      "  \n"
     ]
    },
    {
     "name": "stdout",
     "output_type": "stream",
     "text": [
      "70 1 0.854002254791\n"
     ]
    },
    {
     "name": "stderr",
     "output_type": "stream",
     "text": [
      "/Users/sunan/anaconda/lib/python3.6/site-packages/ipykernel_launcher.py:8: DataConversionWarning: A column-vector y was passed when a 1d array was expected. Please change the shape of y to (n_samples,), for example using ravel().\n",
      "  \n"
     ]
    },
    {
     "name": "stdout",
     "output_type": "stream",
     "text": [
      "70 2 0.775666936136\n"
     ]
    },
    {
     "name": "stderr",
     "output_type": "stream",
     "text": [
      "/Users/sunan/anaconda/lib/python3.6/site-packages/ipykernel_launcher.py:8: DataConversionWarning: A column-vector y was passed when a 1d array was expected. Please change the shape of y to (n_samples,), for example using ravel().\n",
      "  \n"
     ]
    },
    {
     "name": "stdout",
     "output_type": "stream",
     "text": [
      "70 3 0.824009324009\n"
     ]
    },
    {
     "name": "stderr",
     "output_type": "stream",
     "text": [
      "/Users/sunan/anaconda/lib/python3.6/site-packages/ipykernel_launcher.py:8: DataConversionWarning: A column-vector y was passed when a 1d array was expected. Please change the shape of y to (n_samples,), for example using ravel().\n",
      "  \n"
     ]
    },
    {
     "name": "stdout",
     "output_type": "stream",
     "text": [
      "90 1 0.905017921147\n"
     ]
    },
    {
     "name": "stderr",
     "output_type": "stream",
     "text": [
      "/Users/sunan/anaconda/lib/python3.6/site-packages/ipykernel_launcher.py:8: DataConversionWarning: A column-vector y was passed when a 1d array was expected. Please change the shape of y to (n_samples,), for example using ravel().\n",
      "  \n"
     ]
    },
    {
     "name": "stdout",
     "output_type": "stream",
     "text": [
      "90 2 0.784770784771\n"
     ]
    },
    {
     "name": "stderr",
     "output_type": "stream",
     "text": [
      "/Users/sunan/anaconda/lib/python3.6/site-packages/ipykernel_launcher.py:8: DataConversionWarning: A column-vector y was passed when a 1d array was expected. Please change the shape of y to (n_samples,), for example using ravel().\n",
      "  \n"
     ]
    },
    {
     "name": "stdout",
     "output_type": "stream",
     "text": [
      "90 3 0.824009324009\n"
     ]
    },
    {
     "name": "stderr",
     "output_type": "stream",
     "text": [
      "/Users/sunan/anaconda/lib/python3.6/site-packages/ipykernel_launcher.py:8: DataConversionWarning: A column-vector y was passed when a 1d array was expected. Please change the shape of y to (n_samples,), for example using ravel().\n",
      "  \n"
     ]
    },
    {
     "name": "stdout",
     "output_type": "stream",
     "text": [
      "110 1 0.910935738444\n"
     ]
    },
    {
     "name": "stderr",
     "output_type": "stream",
     "text": [
      "/Users/sunan/anaconda/lib/python3.6/site-packages/ipykernel_launcher.py:8: DataConversionWarning: A column-vector y was passed when a 1d array was expected. Please change the shape of y to (n_samples,), for example using ravel().\n",
      "  \n"
     ]
    },
    {
     "name": "stdout",
     "output_type": "stream",
     "text": [
      "110 2 0.808340353833\n"
     ]
    },
    {
     "name": "stderr",
     "output_type": "stream",
     "text": [
      "/Users/sunan/anaconda/lib/python3.6/site-packages/ipykernel_launcher.py:8: DataConversionWarning: A column-vector y was passed when a 1d array was expected. Please change the shape of y to (n_samples,), for example using ravel().\n",
      "  \n"
     ]
    },
    {
     "name": "stdout",
     "output_type": "stream",
     "text": [
      "110 3 0.824009324009\n"
     ]
    },
    {
     "name": "stderr",
     "output_type": "stream",
     "text": [
      "/Users/sunan/anaconda/lib/python3.6/site-packages/ipykernel_launcher.py:8: DataConversionWarning: A column-vector y was passed when a 1d array was expected. Please change the shape of y to (n_samples,), for example using ravel().\n",
      "  \n"
     ]
    },
    {
     "name": "stdout",
     "output_type": "stream",
     "text": [
      "130 1 0.910935738444\n"
     ]
    },
    {
     "name": "stderr",
     "output_type": "stream",
     "text": [
      "/Users/sunan/anaconda/lib/python3.6/site-packages/ipykernel_launcher.py:8: DataConversionWarning: A column-vector y was passed when a 1d array was expected. Please change the shape of y to (n_samples,), for example using ravel().\n",
      "  \n"
     ]
    },
    {
     "name": "stdout",
     "output_type": "stream",
     "text": [
      "130 2 0.799472295515\n"
     ]
    },
    {
     "name": "stderr",
     "output_type": "stream",
     "text": [
      "/Users/sunan/anaconda/lib/python3.6/site-packages/ipykernel_launcher.py:8: DataConversionWarning: A column-vector y was passed when a 1d array was expected. Please change the shape of y to (n_samples,), for example using ravel().\n",
      "  \n"
     ]
    },
    {
     "name": "stdout",
     "output_type": "stream",
     "text": [
      "130 3 0.824009324009\n"
     ]
    },
    {
     "name": "stderr",
     "output_type": "stream",
     "text": [
      "/Users/sunan/anaconda/lib/python3.6/site-packages/ipykernel_launcher.py:8: DataConversionWarning: A column-vector y was passed when a 1d array was expected. Please change the shape of y to (n_samples,), for example using ravel().\n",
      "  \n"
     ]
    },
    {
     "name": "stdout",
     "output_type": "stream",
     "text": [
      "150 1 0.862326574173\n"
     ]
    },
    {
     "name": "stderr",
     "output_type": "stream",
     "text": [
      "/Users/sunan/anaconda/lib/python3.6/site-packages/ipykernel_launcher.py:8: DataConversionWarning: A column-vector y was passed when a 1d array was expected. Please change the shape of y to (n_samples,), for example using ravel().\n",
      "  \n"
     ]
    },
    {
     "name": "stdout",
     "output_type": "stream",
     "text": [
      "150 2 0.843887423043\n"
     ]
    },
    {
     "name": "stderr",
     "output_type": "stream",
     "text": [
      "/Users/sunan/anaconda/lib/python3.6/site-packages/ipykernel_launcher.py:8: DataConversionWarning: A column-vector y was passed when a 1d array was expected. Please change the shape of y to (n_samples,), for example using ravel().\n",
      "  \n"
     ]
    },
    {
     "name": "stdout",
     "output_type": "stream",
     "text": [
      "150 3 0.830964846672\n"
     ]
    },
    {
     "name": "stderr",
     "output_type": "stream",
     "text": [
      "/Users/sunan/anaconda/lib/python3.6/site-packages/ipykernel_launcher.py:8: DataConversionWarning: A column-vector y was passed when a 1d array was expected. Please change the shape of y to (n_samples,), for example using ravel().\n",
      "  \n"
     ]
    },
    {
     "name": "stdout",
     "output_type": "stream",
     "text": [
      "170 1 0.862326574173\n"
     ]
    },
    {
     "name": "stderr",
     "output_type": "stream",
     "text": [
      "/Users/sunan/anaconda/lib/python3.6/site-packages/ipykernel_launcher.py:8: DataConversionWarning: A column-vector y was passed when a 1d array was expected. Please change the shape of y to (n_samples,), for example using ravel().\n",
      "  \n"
     ]
    },
    {
     "name": "stdout",
     "output_type": "stream",
     "text": [
      "170 2 0.850884582982\n"
     ]
    },
    {
     "name": "stderr",
     "output_type": "stream",
     "text": [
      "/Users/sunan/anaconda/lib/python3.6/site-packages/ipykernel_launcher.py:8: DataConversionWarning: A column-vector y was passed when a 1d array was expected. Please change the shape of y to (n_samples,), for example using ravel().\n",
      "  \n"
     ]
    },
    {
     "name": "stdout",
     "output_type": "stream",
     "text": [
      "170 3 0.830964846672\n"
     ]
    },
    {
     "name": "stderr",
     "output_type": "stream",
     "text": [
      "/Users/sunan/anaconda/lib/python3.6/site-packages/ipykernel_launcher.py:8: DataConversionWarning: A column-vector y was passed when a 1d array was expected. Please change the shape of y to (n_samples,), for example using ravel().\n",
      "  \n"
     ]
    },
    {
     "name": "stdout",
     "output_type": "stream",
     "text": [
      "190 1 0.910935738444\n"
     ]
    },
    {
     "name": "stderr",
     "output_type": "stream",
     "text": [
      "/Users/sunan/anaconda/lib/python3.6/site-packages/ipykernel_launcher.py:8: DataConversionWarning: A column-vector y was passed when a 1d array was expected. Please change the shape of y to (n_samples,), for example using ravel().\n",
      "  \n"
     ]
    },
    {
     "name": "stdout",
     "output_type": "stream",
     "text": [
      "190 2 0.843887423043\n"
     ]
    },
    {
     "name": "stderr",
     "output_type": "stream",
     "text": [
      "/Users/sunan/anaconda/lib/python3.6/site-packages/ipykernel_launcher.py:8: DataConversionWarning: A column-vector y was passed when a 1d array was expected. Please change the shape of y to (n_samples,), for example using ravel().\n",
      "  \n"
     ]
    },
    {
     "name": "stdout",
     "output_type": "stream",
     "text": [
      "190 3 0.824009324009\n"
     ]
    },
    {
     "name": "stderr",
     "output_type": "stream",
     "text": [
      "/Users/sunan/anaconda/lib/python3.6/site-packages/ipykernel_launcher.py:8: DataConversionWarning: A column-vector y was passed when a 1d array was expected. Please change the shape of y to (n_samples,), for example using ravel().\n",
      "  \n"
     ]
    },
    {
     "name": "stdout",
     "output_type": "stream",
     "text": [
      "210 1 0.910935738444\n"
     ]
    },
    {
     "name": "stderr",
     "output_type": "stream",
     "text": [
      "/Users/sunan/anaconda/lib/python3.6/site-packages/ipykernel_launcher.py:8: DataConversionWarning: A column-vector y was passed when a 1d array was expected. Please change the shape of y to (n_samples,), for example using ravel().\n",
      "  \n"
     ]
    },
    {
     "name": "stdout",
     "output_type": "stream",
     "text": [
      "210 2 0.850884582982\n"
     ]
    },
    {
     "name": "stderr",
     "output_type": "stream",
     "text": [
      "/Users/sunan/anaconda/lib/python3.6/site-packages/ipykernel_launcher.py:8: DataConversionWarning: A column-vector y was passed when a 1d array was expected. Please change the shape of y to (n_samples,), for example using ravel().\n",
      "  \n"
     ]
    },
    {
     "name": "stdout",
     "output_type": "stream",
     "text": [
      "210 3 0.824009324009\n"
     ]
    }
   ],
   "source": [
    "########adjust n_stimators########\n",
    "n_estimators_adj = list(range(30,220,20))\n",
    "max_features = list(range(1,4,1))\n",
    "\n",
    "for value in n_estimators_adj:\n",
    "    for o in max_features:\n",
    "        clf = RandomForestClassifier(n_estimators=value,max_features = o ,random_state=20, class_weight='balanced')\n",
    "        clf.fit(newX_train,newy_train)\n",
    "        newtest_pred = clf.predict(X_test)\n",
    "        f_beta_score = fbeta_score(y_true = y_test,y_pred = newtest_pred, beta = 0.1)\n",
    "        print (value, o, f_beta_score)"
   ]
  },
  {
   "cell_type": "code",
   "execution_count": 52,
   "metadata": {},
   "outputs": [
    {
     "name": "stderr",
     "output_type": "stream",
     "text": [
      "/Users/sunan/anaconda/lib/python3.6/site-packages/ipykernel_launcher.py:2: DataConversionWarning: A column-vector y was passed when a 1d array was expected. Please change the shape of y to (n_samples,), for example using ravel().\n",
      "  \n"
     ]
    },
    {
     "name": "stdout",
     "output_type": "stream",
     "text": [
      "0.910935738444 16\n"
     ]
    }
   ],
   "source": [
    "clf = RandomForestClassifier(n_estimators=110 ,max_features = 1 ,random_state=20, class_weight='balanced')\n",
    "clf.fit(newX_train,newy_train)\n",
    "newtest_pred = clf.predict(X_test)\n",
    "f_beta_score = fbeta_score(y_true = y_test,y_pred = newtest_pred, beta = 0.1)\n",
    "print(f_beta_score,sum(newtest_pred))"
   ]
  },
  {
   "cell_type": "code",
   "execution_count": 53,
   "metadata": {},
   "outputs": [
    {
     "name": "stdout",
     "output_type": "stream",
     "text": [
      "[[14162     0]\n",
      " [  158    16]]\n"
     ]
    },
    {
     "data": {
      "text/plain": [
       "<matplotlib.figure.Figure at 0x11e0f2c88>"
      ]
     },
     "metadata": {},
     "output_type": "display_data"
    },
    {
     "data": {
      "image/png": "[encoded data removed]",
      "text/plain": [
       "<matplotlib.figure.Figure at 0x11a3e3470>"
      ]
     },
     "metadata": {},
     "output_type": "display_data"
    }
   ],
   "source": [
    "class_names = ['Normal','Risk']\n",
    "\n",
    "cnf_matrix = confusion_matrix(y_test, newtest_pred)\n",
    "np.set_printoptions(precision=2)\n",
    "\n",
    "# Plot normalized confusion matrix\n",
    "plt.figure()\n",
    "plot_confusion_matrix(cnf_matrix, classes=class_names, normalize=True,\n",
    "                      title='Confusion matrix')\n",
    "\n",
    "plt.show()"
   ]
  },
  {
   "cell_type": "code",
   "execution_count": 54,
   "metadata": {},
   "outputs": [
    {
     "data": {
      "text/plain": [
       "<matplotlib.legend.Legend at 0x124e29cf8>"
      ]
     },
     "execution_count": 54,
     "metadata": {},
     "output_type": "execute_result"
    },
    {
     "data": {
      "image/png": "[encoded data removed]",
      "text/plain": [
       "<matplotlib.figure.Figure at 0x117d32198>"
      ]
     },
     "metadata": {},
     "output_type": "display_data"
    }
   ],
   "source": [
    "%matplotlib inline\n",
    "\n",
    "cols = list(range(newX_train.shape[1]))\n",
    "rf_fi = clf.feature_importances_\n",
    "#dt_fi = clf_def.feature_importances_\n",
    "\n",
    "fig, ax = plt.subplots()\n",
    "width=0.35\n",
    "\n",
    "ax.bar(np.arange(len(cols)), rf_fi, width, color='r', label='RF')\n",
    "#ax.bar(np.arange(len(cols))+width, dt_fi, width, color='b', label='DT')\n",
    "#ax.set_ylim([0,0.0005])\n",
    "#ax.set_xticks(np.arange(len(cols)))\n",
    "#ax.set_xticklabels(cols, rotation=45)\n",
    "plt.title('Feature Importance from RF')\n",
    "ax.set_ylabel('Normalized Gini Importance')\n",
    "plt.legend(loc=1)"
   ]
  },
  {
   "cell_type": "code",
   "execution_count": 55,
   "metadata": {},
   "outputs": [
    {
     "data": {
      "text/plain": [
       "<matplotlib.text.Text at 0x12691f940>"
      ]
     },
     "execution_count": 55,
     "metadata": {},
     "output_type": "execute_result"
    },
    {
     "data": {
      "image/png": "[encoded data removed]",
      "text/plain": [
       "<matplotlib.figure.Figure at 0x12676ae80>"
      ]
     },
     "metadata": {},
     "output_type": "display_data"
    }
   ],
   "source": [
    "######feature importance#######\n",
    "plt.rcParams['figure.figsize'] = 10, 8\n",
    "y_pos = np.arange(X_train.shape[1])\n",
    "plt.bar(y_pos,clf.feature_importances_)\n",
    "plt.xticks(y_pos, X_train.columns,rotation = 'vertical')\n",
    "plt.xlabel('Feature Names')\n",
    "plt.ylabel('Feature Importance')"
   ]
  }
 ],
 "metadata": {
  "kernelspec": {
   "display_name": "Python 3",
   "language": "python",
   "name": "python3"
  },
  "language_info": {
   "codemirror_mode": {
    "name": "ipython",
    "version": 3
   },
   "file_extension": ".py",
   "mimetype": "text/x-python",
   "name": "python",
   "nbconvert_exporter": "python",
   "pygments_lexer": "ipython3",
   "version": "3.7.2"
  }
 },
 "nbformat": 4,
 "nbformat_minor": 2
}
